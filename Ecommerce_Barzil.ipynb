{
 "cells": [
  {
   "cell_type": "code",
   "execution_count": 1,
   "id": "8e25020f",
   "metadata": {},
   "outputs": [],
   "source": [
    "import findspark\n",
    "findspark.init()"
   ]
  },
  {
   "cell_type": "code",
   "execution_count": 2,
   "id": "7123aa22",
   "metadata": {},
   "outputs": [
    {
     "name": "stderr",
     "output_type": "stream",
     "text": [
      "WARNING: An illegal reflective access operation has occurred\n",
      "WARNING: Illegal reflective access by org.apache.spark.unsafe.Platform (file:/opt/spark3/jars/spark-unsafe_2.12-3.0.3.jar) to constructor java.nio.DirectByteBuffer(long,int)\n",
      "WARNING: Please consider reporting this to the maintainers of org.apache.spark.unsafe.Platform\n",
      "WARNING: Use --illegal-access=warn to enable warnings of further illegal reflective access operations\n",
      "WARNING: All illegal access operations will be denied in a future release\n",
      "Setting default log level to \"WARN\".\n",
      "To adjust logging level use sc.setLogLevel(newLevel). For SparkR, use setLogLevel(newLevel).\n"
     ]
    }
   ],
   "source": [
    "from pyspark.sql.session import SparkSession\n",
    "from pyspark.context import SparkContext\n",
    "\n",
    "sc = SparkContext.getOrCreate()\n",
    "spark = SparkSession(sc)"
   ]
  },
  {
   "cell_type": "code",
   "execution_count": 3,
   "id": "a118480a",
   "metadata": {},
   "outputs": [],
   "source": [
    "from IPython.display import display, Markdown"
   ]
  },
  {
   "cell_type": "code",
   "execution_count": 4,
   "id": "9bc702e2",
   "metadata": {},
   "outputs": [],
   "source": [
    "from pyspark.sql.types import *\n",
    "from pyspark.sql.functions import *\n",
    "from pyspark.context import SparkContext\n",
    "from pyspark.sql import SQLContext"
   ]
  },
  {
   "cell_type": "markdown",
   "id": "4430a2df",
   "metadata": {},
   "source": [
    "## LOADING DATAFRAMES \n",
    "\n",
    "To answer the business questions that were lined out in our presentation we focus on the most important tables: _Customers, Items, Payments, Reviews, Orders, Products and Sellers_. In the following they are all loaded."
   ]
  },
  {
   "cell_type": "code",
   "execution_count": 5,
   "id": "7706598f",
   "metadata": {},
   "outputs": [
    {
     "name": "stderr",
     "output_type": "stream",
     "text": [
      "                                                                                \r"
     ]
    }
   ],
   "source": [
    "customers_df = spark.read \\\n",
    "                 .option(\"inferSchema\", \"true\") \\\n",
    "                 .option(\"header\", \"true\") \\\n",
    "                 .option(\"sep\", \",\") \\\n",
    "                 .csv(\"olist_customers_dataset.csv\")"
   ]
  },
  {
   "cell_type": "code",
   "execution_count": 6,
   "id": "76fefdd3",
   "metadata": {},
   "outputs": [
    {
     "name": "stdout",
     "output_type": "stream",
     "text": [
      "+--------------------+--------------------+------------------------+--------------------+--------------+\n",
      "|         customer_id|  customer_unique_id|customer_zip_code_prefix|       customer_city|customer_state|\n",
      "+--------------------+--------------------+------------------------+--------------------+--------------+\n",
      "|06b8999e2fba1a1fb...|861eff4711a542e4b...|                   14409|              franca|            SP|\n",
      "|18955e83d337fd6b2...|290c77bc529b7ac93...|                    9790|sao bernardo do c...|            SP|\n",
      "|4e7b3e00288586ebd...|060e732b5b29e8181...|                    1151|           sao paulo|            SP|\n",
      "|b2b6027bc5c5109e5...|259dac757896d24d7...|                    8775|     mogi das cruzes|            SP|\n",
      "|4f2d8ab171c80ec83...|345ecd01c38d18a90...|                   13056|            campinas|            SP|\n",
      "|879864dab9bc30475...|4c93744516667ad3b...|                   89254|      jaragua do sul|            SC|\n",
      "|fd826e7cf63160e53...|addec96d2e059c80c...|                    4534|           sao paulo|            SP|\n",
      "|5e274e7a0c3809e14...|57b2a98a409812fe9...|                   35182|             timoteo|            MG|\n",
      "|5adf08e34b2e99398...|1175e95fb47ddff9d...|                   81560|            curitiba|            PR|\n",
      "|4b7139f34592b3a31...|9afe194fb833f79e3...|                   30575|      belo horizonte|            MG|\n",
      "|9fb35e4ed6f0a14a4...|2a7745e1ed516b289...|                   39400|       montes claros|            MG|\n",
      "|5aa9e4fdd4dfd2095...|2a46fb94aef5cbeeb...|                   20231|      rio de janeiro|            RJ|\n",
      "|b2d1536598b73a9ab...|918dc87cd72cd9f6e...|                   18682|    lencois paulista|            SP|\n",
      "|eabebad39a88bb6f5...|295c05e81917928d7...|                    5704|           sao paulo|            SP|\n",
      "|1f1c7bf1c9b041b29...|3151a81801c838636...|                   95110|       caxias do sul|            RS|\n",
      "|206f3129c0e4d7d0b...|21f748a16f4e1688a...|                   13412|          piracicaba|            SP|\n",
      "|a7c125a0a07b75146...|5c2991dbd08bbf3cf...|                   22750|      rio de janeiro|            RJ|\n",
      "|c5c61596a3b6bd0ce...|b6e99561fe6f34a55...|                    7124|           guarulhos|            SP|\n",
      "|9b8ce803689b3562d...|7f3a72e8f988c6e73...|                    5416|           sao paulo|            SP|\n",
      "|49d0ea0986edde72d...|3e6fd6b2f0d499456...|                   68485|              pacaja|            PA|\n",
      "+--------------------+--------------------+------------------------+--------------------+--------------+\n",
      "only showing top 20 rows\n",
      "\n"
     ]
    }
   ],
   "source": [
    "customers_df.show(truncate=True)"
   ]
  },
  {
   "cell_type": "code",
   "execution_count": 7,
   "id": "d890f9d9",
   "metadata": {},
   "outputs": [
    {
     "name": "stderr",
     "output_type": "stream",
     "text": [
      "                                                                                \r"
     ]
    }
   ],
   "source": [
    "order_items_df = spark.read \\\n",
    "                 .option(\"inferSchema\", \"true\") \\\n",
    "                 .option(\"header\", \"true\") \\\n",
    "                 .option(\"sep\", \",\") \\\n",
    "                 .csv(\"olist_order_items_dataset.csv\")"
   ]
  },
  {
   "cell_type": "code",
   "execution_count": 8,
   "id": "ca85e000",
   "metadata": {},
   "outputs": [
    {
     "name": "stdout",
     "output_type": "stream",
     "text": [
      "+--------------------+-------------+--------------------+--------------------+-------------------+------+-------------+\n",
      "|            order_id|order_item_id|          product_id|           seller_id|shipping_limit_date| price|freight_value|\n",
      "+--------------------+-------------+--------------------+--------------------+-------------------+------+-------------+\n",
      "|00010242fe8c5a6d1...|            1|4244733e06e7ecb49...|48436dade18ac8b2b...|2017-09-19 09:45:35|  58.9|        13.29|\n",
      "|00018f77f2f0320c5...|            1|e5f2d52b802189ee6...|dd7ddc04e1b6c2c61...|2017-05-03 11:05:13| 239.9|        19.93|\n",
      "|000229ec398224ef6...|            1|c777355d18b72b67a...|5b51032eddd242adc...|2018-01-18 14:48:30| 199.0|        17.87|\n",
      "|00024acbcdf0a6daa...|            1|7634da152a4610f15...|9d7a1d34a50524090...|2018-08-15 10:10:18| 12.99|        12.79|\n",
      "|00042b26cf59d7ce6...|            1|ac6c3623068f30de0...|df560393f3a51e745...|2017-02-13 13:57:51| 199.9|        18.14|\n",
      "|00048cc3ae777c65d...|            1|ef92defde845ab845...|6426d21aca402a131...|2017-05-23 03:55:27|  21.9|        12.69|\n",
      "|00054e8431b9d7675...|            1|8d4f2bb7e93e6710a...|7040e82f899a04d1b...|2017-12-14 12:10:31|  19.9|        11.85|\n",
      "|000576fe39319847c...|            1|557d850972a7d6f79...|5996cddab893a4652...|2018-07-10 12:30:45| 810.0|        70.75|\n",
      "|0005a1a1728c9d785...|            1|310ae3c140ff94b03...|a416b6a846a117243...|2018-03-26 18:31:29|145.95|        11.65|\n",
      "|0005f50442cb953dc...|            1|4535b0e1091c278df...|ba143b05f0110f0dc...|2018-07-06 14:10:56| 53.99|         11.4|\n",
      "|00061f2a7bc09da83...|            1|d63c1011f49d98b97...|cc419e0650a3c5ba7...|2018-03-29 22:28:09| 59.99|         8.88|\n",
      "|00063b381e2406b52...|            1|f177554ea93259a5b...|8602a61d680a10a82...|2018-07-31 17:30:39|  45.0|        12.98|\n",
      "|0006ec9db01a64e59...|            1|99a4788cb24856965...|4a3ca9315b744ce9f...|2018-07-26 17:24:20|  74.0|        23.32|\n",
      "|0008288aa423d2a3f...|            1|368c6c730842d7801...|1f50f920176fa81da...|2018-02-21 02:55:52|  49.9|        13.37|\n",
      "|0008288aa423d2a3f...|            2|368c6c730842d7801...|1f50f920176fa81da...|2018-02-21 02:55:52|  49.9|        13.37|\n",
      "|0009792311464db53...|            1|8cab8abac59158715...|530ec6109d11eaaf8...|2018-08-17 12:15:10|  99.9|        27.65|\n",
      "|0009c9a17f916a706...|            1|3f27ac8e699df3d30...|fcb5ace8bcc92f757...|2018-05-02 09:31:53| 639.0|        11.34|\n",
      "|000aed2e25dbad2f9...|            1|4fa33915031a8cde0...|fe2032dab1a61af87...|2018-05-16 20:57:03| 144.0|         8.77|\n",
      "|000c3e6612759851c...|            1|b50c950aba0dcead2...|218d46b86c1881d02...|2017-08-21 03:33:13|  99.0|        13.71|\n",
      "|000e562887b1f2006...|            1|5ed9eaf534f6936b5...|8cbac7e12637ed9cf...|2018-02-28 12:08:37|  25.0|        16.11|\n",
      "+--------------------+-------------+--------------------+--------------------+-------------------+------+-------------+\n",
      "only showing top 20 rows\n",
      "\n"
     ]
    }
   ],
   "source": [
    "order_items_df.show(truncate=True)"
   ]
  },
  {
   "cell_type": "code",
   "execution_count": 9,
   "id": "0dbb2f88",
   "metadata": {},
   "outputs": [],
   "source": [
    "order_payments_df = spark.read \\\n",
    "                 .option(\"inferSchema\", \"true\") \\\n",
    "                 .option(\"header\", \"true\") \\\n",
    "                 .option(\"sep\", \",\") \\\n",
    "                 .csv(\"olist_order_payments_dataset.csv\")"
   ]
  },
  {
   "cell_type": "code",
   "execution_count": 10,
   "id": "23fca90c",
   "metadata": {},
   "outputs": [
    {
     "name": "stdout",
     "output_type": "stream",
     "text": [
      "+--------------------+------------------+------------+--------------------+-------------+\n",
      "|            order_id|payment_sequential|payment_type|payment_installments|payment_value|\n",
      "+--------------------+------------------+------------+--------------------+-------------+\n",
      "|b81ef226f3fe1789b...|                 1| credit_card|                   8|        99.33|\n",
      "|a9810da82917af2d9...|                 1| credit_card|                   1|        24.39|\n",
      "|25e8ea4e93396b6fa...|                 1| credit_card|                   1|        65.71|\n",
      "|ba78997921bbcdc13...|                 1| credit_card|                   8|       107.78|\n",
      "|42fdf880ba16b47b5...|                 1| credit_card|                   2|       128.45|\n",
      "+--------------------+------------------+------------+--------------------+-------------+\n",
      "only showing top 5 rows\n",
      "\n"
     ]
    }
   ],
   "source": [
    "order_payments_df.show(5,truncate=True)"
   ]
  },
  {
   "cell_type": "code",
   "execution_count": 11,
   "id": "d8057bcc",
   "metadata": {},
   "outputs": [
    {
     "name": "stderr",
     "output_type": "stream",
     "text": [
      "\r",
      "[Stage 10:>                                                         (0 + 2) / 2]\r",
      "\r",
      "                                                                                \r"
     ]
    }
   ],
   "source": [
    "order_reviews_df = spark.read \\\n",
    "                 .option(\"inferSchema\", \"true\") \\\n",
    "                 .option(\"header\", \"true\") \\\n",
    "                 .option(\"sep\", \",\") \\\n",
    "                 .csv(\"olist_order_reviews_dataset.csv\")"
   ]
  },
  {
   "cell_type": "code",
   "execution_count": 12,
   "id": "499a19da",
   "metadata": {},
   "outputs": [
    {
     "name": "stdout",
     "output_type": "stream",
     "text": [
      "+--------------------+--------------------+------------+--------------------+----------------------+--------------------+-----------------------+\n",
      "|           review_id|            order_id|review_score|review_comment_title|review_comment_message|review_creation_date|review_answer_timestamp|\n",
      "+--------------------+--------------------+------------+--------------------+----------------------+--------------------+-----------------------+\n",
      "|7bc2406110b926393...|73fc7af87114b3971...|           4|                null|                  null| 2018-01-18 00:00:00|    2018-01-18 21:46:59|\n",
      "|80e641a11e56f04c1...|a548910a1c6147796...|           5|                null|                  null| 2018-03-10 00:00:00|    2018-03-11 03:05:13|\n",
      "|228ce5500dc1d8e02...|f9e4b658b201a9f2e...|           5|                null|                  null| 2018-02-17 00:00:00|    2018-02-18 14:36:24|\n",
      "|e64fb393e7b32834b...|658677c97b385a9be...|           5|                null|  Recebi bem antes ...| 2017-04-21 00:00:00|    2017-04-21 22:02:06|\n",
      "|f7c4243c7fe1938f1...|8e6bfb81e283fa7e4...|           5|                null|  Parabéns lojas la...| 2018-03-01 00:00:00|    2018-03-02 10:26:53|\n",
      "+--------------------+--------------------+------------+--------------------+----------------------+--------------------+-----------------------+\n",
      "only showing top 5 rows\n",
      "\n"
     ]
    }
   ],
   "source": [
    "order_reviews_df.show(5, truncate=True)"
   ]
  },
  {
   "cell_type": "code",
   "execution_count": 13,
   "id": "07dbee45",
   "metadata": {},
   "outputs": [
    {
     "data": {
      "text/plain": [
       "[Row(review_id='7bc2406110b926393aa56f80a40eba40', order_id='73fc7af87114b39712e6da79b0a377eb', review_score='4', review_comment_title=None, review_comment_message=None, review_creation_date='2018-01-18 00:00:00', review_answer_timestamp='2018-01-18 21:46:59')]"
      ]
     },
     "metadata": {},
     "output_type": "display_data"
    }
   ],
   "source": [
    "display(order_reviews_df.take(1))"
   ]
  },
  {
   "cell_type": "code",
   "execution_count": 14,
   "id": "4606e3a4",
   "metadata": {},
   "outputs": [
    {
     "name": "stderr",
     "output_type": "stream",
     "text": [
      "\r",
      "[Stage 14:>                                                         (0 + 2) / 2]\r",
      "\r",
      "                                                                                \r"
     ]
    }
   ],
   "source": [
    "orders_df = spark.read \\\n",
    "                 .option(\"inferSchema\", \"true\") \\\n",
    "                 .option(\"header\", \"true\") \\\n",
    "                 .option(\"sep\", \",\") \\\n",
    "                 .csv(\"olist_orders_dataset.csv\")"
   ]
  },
  {
   "cell_type": "code",
   "execution_count": 15,
   "id": "40d3ca37",
   "metadata": {},
   "outputs": [
    {
     "name": "stdout",
     "output_type": "stream",
     "text": [
      "+--------------------+--------------------+------------+------------------------+-------------------+----------------------------+-----------------------------+-----------------------------+\n",
      "|            order_id|         customer_id|order_status|order_purchase_timestamp|  order_approved_at|order_delivered_carrier_date|order_delivered_customer_date|order_estimated_delivery_date|\n",
      "+--------------------+--------------------+------------+------------------------+-------------------+----------------------------+-----------------------------+-----------------------------+\n",
      "|e481f51cbdc54678b...|9ef432eb625129730...|   delivered|     2017-10-02 10:56:33|2017-10-02 11:07:15|         2017-10-04 19:55:00|          2017-10-10 21:25:13|          2017-10-18 00:00:00|\n",
      "|53cdb2fc8bc7dce0b...|b0830fb4747a6c6d2...|   delivered|     2018-07-24 20:41:37|2018-07-26 03:24:27|         2018-07-26 14:31:00|          2018-08-07 15:27:45|          2018-08-13 00:00:00|\n",
      "|47770eb9100c2d0c4...|41ce2a54c0b03bf34...|   delivered|     2018-08-08 08:38:49|2018-08-08 08:55:23|         2018-08-08 13:50:00|          2018-08-17 18:06:29|          2018-09-04 00:00:00|\n",
      "|949d5b44dbf5de918...|f88197465ea7920ad...|   delivered|     2017-11-18 19:28:06|2017-11-18 19:45:59|         2017-11-22 13:39:59|          2017-12-02 00:28:42|          2017-12-15 00:00:00|\n",
      "|ad21c59c0840e6cb8...|8ab97904e6daea886...|   delivered|     2018-02-13 21:18:39|2018-02-13 22:20:29|         2018-02-14 19:46:34|          2018-02-16 18:17:02|          2018-02-26 00:00:00|\n",
      "+--------------------+--------------------+------------+------------------------+-------------------+----------------------------+-----------------------------+-----------------------------+\n",
      "only showing top 5 rows\n",
      "\n"
     ]
    }
   ],
   "source": [
    "orders_df.show(5,truncate=True)"
   ]
  },
  {
   "cell_type": "code",
   "execution_count": 16,
   "id": "fe5b3ebc",
   "metadata": {},
   "outputs": [],
   "source": [
    "products_df = spark.read \\\n",
    "                 .option(\"inferSchema\", \"true\") \\\n",
    "                 .option(\"header\", \"true\") \\\n",
    "                 .option(\"sep\", \",\") \\\n",
    "                 .csv(\"olist_products_dataset.csv\")"
   ]
  },
  {
   "cell_type": "code",
   "execution_count": 17,
   "id": "4b4291fa",
   "metadata": {},
   "outputs": [
    {
     "name": "stdout",
     "output_type": "stream",
     "text": [
      "+--------------------+---------------------+-------------------+--------------------------+------------------+----------------+-----------------+-----------------+----------------+\n",
      "|          product_id|product_category_name|product_name_lenght|product_description_lenght|product_photos_qty|product_weight_g|product_length_cm|product_height_cm|product_width_cm|\n",
      "+--------------------+---------------------+-------------------+--------------------------+------------------+----------------+-----------------+-----------------+----------------+\n",
      "|1e9e8ef04dbcff454...|           perfumaria|                 40|                       287|                 1|             225|               16|               10|              14|\n",
      "|3aa071139cb16b67c...|                artes|                 44|                       276|                 1|            1000|               30|               18|              20|\n",
      "|96bd76ec8810374ed...|        esporte_lazer|                 46|                       250|                 1|             154|               18|                9|              15|\n",
      "|cef67bcfe19066a93...|                bebes|                 27|                       261|                 1|             371|               26|                4|              26|\n",
      "|9dc1a7de274444849...| utilidades_domest...|                 37|                       402|                 4|             625|               20|               17|              13|\n",
      "+--------------------+---------------------+-------------------+--------------------------+------------------+----------------+-----------------+-----------------+----------------+\n",
      "only showing top 5 rows\n",
      "\n"
     ]
    }
   ],
   "source": [
    "products_df.show(5, truncate=True)"
   ]
  },
  {
   "cell_type": "code",
   "execution_count": 18,
   "id": "e510a389",
   "metadata": {},
   "outputs": [],
   "source": [
    "sellers_df = spark.read \\\n",
    "                 .option(\"inferSchema\", \"true\") \\\n",
    "                 .option(\"header\", \"true\") \\\n",
    "                 .option(\"sep\", \",\") \\\n",
    "                 .csv(\"olist_sellers_dataset.csv\")"
   ]
  },
  {
   "cell_type": "code",
   "execution_count": 19,
   "id": "3322ff9a",
   "metadata": {},
   "outputs": [
    {
     "name": "stdout",
     "output_type": "stream",
     "text": [
      "+--------------------+----------------------+-----------------+------------+\n",
      "|           seller_id|seller_zip_code_prefix|      seller_city|seller_state|\n",
      "+--------------------+----------------------+-----------------+------------+\n",
      "|3442f8959a84dea7e...|                 13023|         campinas|          SP|\n",
      "|d1b65fc7debc3361e...|                 13844|       mogi guacu|          SP|\n",
      "|ce3ad9de960102d06...|                 20031|   rio de janeiro|          RJ|\n",
      "|c0f3eea2e14555b6f...|                  4195|        sao paulo|          SP|\n",
      "|51a04a8a6bdcb23de...|                 12914|braganca paulista|          SP|\n",
      "|c240c4061717ac180...|                 20920|   rio de janeiro|          RJ|\n",
      "|e49c26c3edfa46d22...|                 55325|           brejao|          PE|\n",
      "|1b938a7ec6ac5061a...|                 16304|        penapolis|          SP|\n",
      "|768a86e36ad6aae3d...|                  1529|        sao paulo|          SP|\n",
      "|ccc4bbb5f32a6ab2b...|                 80310|         curitiba|          PR|\n",
      "|8cb7c5ddf41f4d506...|                 75110|         anapolis|          GO|\n",
      "|a7a9b880c49781da6...|                 13530|        itirapina|          SP|\n",
      "|8bd0f31cf0a614c65...|                  1222|        sao paulo|          SP|\n",
      "|05a48cc8859962767...|                  5372|        sao paulo|          SP|\n",
      "|7b8e8ec35bad4b0ef...|                 88705|          tubarao|          SC|\n",
      "|1444c08e64d55fb3c...|                 42738| lauro de freitas|          BA|\n",
      "|166e8f1381e096519...|                 88780|         imbituba|          SC|\n",
      "|e38db885400cd35c7...|                 70740|         brasilia|          DF|\n",
      "|d2e753bb80b7d4faa...|                 45810|     porto seguro|          BA|\n",
      "|f9ec7093df3a7b346...|                  5138|        sao paulo|          SP|\n",
      "+--------------------+----------------------+-----------------+------------+\n",
      "only showing top 20 rows\n",
      "\n"
     ]
    }
   ],
   "source": [
    "sellers_df.show(truncate=True)"
   ]
  },
  {
   "cell_type": "code",
   "execution_count": 20,
   "id": "85464d9a",
   "metadata": {},
   "outputs": [],
   "source": [
    "product_cat_translation_df = spark.read \\\n",
    "                 .option(\"inferSchema\", \"true\") \\\n",
    "                 .option(\"header\", \"true\") \\\n",
    "                 .option(\"sep\", \",\") \\\n",
    "                 .csv(\"product_category_name_translation.csv\")"
   ]
  },
  {
   "cell_type": "markdown",
   "id": "6b862a30",
   "metadata": {},
   "source": [
    "## TRANSLATION PRODUCT CATEGORY FROM PORTUGESE TO ENGLISH"
   ]
  },
  {
   "cell_type": "code",
   "execution_count": 21,
   "id": "4b382b2b",
   "metadata": {},
   "outputs": [
    {
     "name": "stdout",
     "output_type": "stream",
     "text": [
      "+---------------------+-----------------------------+\n",
      "|product_category_name|product_category_name_english|\n",
      "+---------------------+-----------------------------+\n",
      "|         beleza_saude|                health_beauty|\n",
      "| informatica_acess...|         computers_accesso...|\n",
      "|           automotivo|                         auto|\n",
      "|      cama_mesa_banho|               bed_bath_table|\n",
      "|     moveis_decoracao|              furniture_decor|\n",
      "|        esporte_lazer|               sports_leisure|\n",
      "|           perfumaria|                    perfumery|\n",
      "| utilidades_domest...|                   housewares|\n",
      "|            telefonia|                    telephony|\n",
      "|   relogios_presentes|                watches_gifts|\n",
      "|    alimentos_bebidas|                   food_drink|\n",
      "|                bebes|                         baby|\n",
      "|            papelaria|                   stationery|\n",
      "| tablets_impressao...|         tablets_printing_...|\n",
      "|           brinquedos|                         toys|\n",
      "|       telefonia_fixa|              fixed_telephony|\n",
      "|   ferramentas_jardim|                 garden_tools|\n",
      "| fashion_bolsas_e_...|         fashion_bags_acce...|\n",
      "|      eletroportateis|             small_appliances|\n",
      "|       consoles_games|               consoles_games|\n",
      "+---------------------+-----------------------------+\n",
      "only showing top 20 rows\n",
      "\n"
     ]
    }
   ],
   "source": [
    "product_cat_translation_df.show(truncate=True)"
   ]
  },
  {
   "cell_type": "code",
   "execution_count": 22,
   "id": "dec90daf",
   "metadata": {},
   "outputs": [
    {
     "name": "stdout",
     "output_type": "stream",
     "text": [
      "+--------------------+-------------------+--------------------------+------------------+\n",
      "|          product_id|       product_name|product_description_lenght|product_photos_qty|\n",
      "+--------------------+-------------------+--------------------------+------------------+\n",
      "|1e9e8ef04dbcff454...|          perfumery|                       287|                 1|\n",
      "|3aa071139cb16b67c...|                art|                       276|                 1|\n",
      "|96bd76ec8810374ed...|     sports_leisure|                       250|                 1|\n",
      "|cef67bcfe19066a93...|               baby|                       261|                 1|\n",
      "|9dc1a7de274444849...|         housewares|                       402|                 4|\n",
      "|41d3672d4792049fa...|musical_instruments|                       745|                 1|\n",
      "|732bd381ad09e530f...|         cool_stuff|                      1272|                 4|\n",
      "|2548af3e6e77a690c...|    furniture_decor|                       184|                 2|\n",
      "|37cc742be07708b53...|    home_appliances|                       163|                 1|\n",
      "|8c92109888e8cdf9d...|               toys|                      1156|                 1|\n",
      "+--------------------+-------------------+--------------------------+------------------+\n",
      "only showing top 10 rows\n",
      "\n"
     ]
    }
   ],
   "source": [
    "products = products_df.join(product_cat_translation_df,\"product_category_name\")\\\n",
    "                    .select(\"product_id\", \"product_category_name_english\",\"product_description_lenght\", \"product_photos_qty\")\\\n",
    "                    .withColumnRenamed(\"product_category_name_english\", \"product_name\")\n",
    "products.show(10)"
   ]
  },
  {
   "cell_type": "markdown",
   "id": "f01c9ba9",
   "metadata": {},
   "source": [
    "## REVIEW CATEGORIES PER ORDER"
   ]
  },
  {
   "cell_type": "code",
   "execution_count": 23,
   "id": "2449d307",
   "metadata": {},
   "outputs": [
    {
     "name": "stderr",
     "output_type": "stream",
     "text": [
      "                                                                                \r"
     ]
    },
    {
     "name": "stdout",
     "output_type": "stream",
     "text": [
      "+--------------------+------------+--------------------+-------------+------------+----------------+\n",
      "|            order_id|payment_type|payment_installments|payment_value|review_score|          review|\n",
      "+--------------------+------------+--------------------+-------------+------------+----------------+\n",
      "|b81ef226f3fe1789b...| credit_card|                   8|        99.33|           1|Very Unsatisfied|\n",
      "|a9810da82917af2d9...| credit_card|                   1|        24.39|           5|       Excellent|\n",
      "|25e8ea4e93396b6fa...| credit_card|                   1|        65.71|           5|       Excellent|\n",
      "|ba78997921bbcdc13...| credit_card|                   8|       107.78|           5|       Excellent|\n",
      "|ba78997921bbcdc13...| credit_card|                   8|       107.78|           5|       Excellent|\n",
      "|42fdf880ba16b47b5...| credit_card|                   2|       128.45|           5|       Excellent|\n",
      "|298fcdf1f73eb413e...| credit_card|                   2|        96.12|           5|       Excellent|\n",
      "|771ee386b001f0620...| credit_card|                   1|        81.16|           5|       Excellent|\n",
      "|3d7239c394a212faa...| credit_card|                   3|        51.84|           4|       Very Good|\n",
      "|1f78449c87a54faf9...| credit_card|                   6|       341.09|           5|       Excellent|\n",
      "+--------------------+------------+--------------------+-------------+------------+----------------+\n",
      "only showing top 10 rows\n",
      "\n"
     ]
    }
   ],
   "source": [
    "order_info = order_payments_df.join(order_reviews_df,\"order_id\")\\\n",
    "                            .select(\"order_id\",\"payment_type\",\"payment_installments\", \"payment_value\", \"review_score\")\\\n",
    "                            .where(col(\"review_score\")>0)\\\n",
    "                            .where(col(\"review_score\")<6)\\\n",
    "                            .withColumn(\"review\", when(col(\"review_score\")==5, \"Excellent\")\n",
    "                                                .when(col(\"review_score\")==4, \"Very Good\")\n",
    "                                                .when(col(\"review_score\")==3, \"Good\")\n",
    "                                                .when(col(\"review_score\")==2, \"Unsatisfied\")\n",
    "                                                .when(col(\"review_score\")==1, \"Very Unsatisfied\")\n",
    "                                                .when(col(\"review_score\")==0, \"Disappointing\"))\n",
    "\n",
    "order_info.show(10)"
   ]
  },
  {
   "cell_type": "code",
   "execution_count": 24,
   "id": "733cfb21",
   "metadata": {},
   "outputs": [
    {
     "name": "stderr",
     "output_type": "stream",
     "text": [
      "                                                                                \r"
     ]
    },
    {
     "name": "stdout",
     "output_type": "stream",
     "text": [
      "+------------+------------------+------------------+-----------------+-----------+------------+-----------+-----------+\n",
      "|payment_type|Avg_paymnt_install|     Total_Payment|       Avg_review|Best_review|Worst_review|Max_Install|Min_Install|\n",
      "+------------+------------------+------------------+-----------------+-----------+------------+-----------+-----------+\n",
      "| credit_card| 3.509477806788512|1.24837152499995E7|4.087637075718016|          5|           1|         24|          0|\n",
      "|      boleto|               1.0| 2854996.229999999|4.086630907802854|          5|           1|          1|          1|\n",
      "|     voucher|               1.0|374780.95000000065|4.003804253847484|          5|           1|          1|          1|\n",
      "|  debit_card|               1.0|218161.98000000019|4.168083714846305|          5|           1|          1|          1|\n",
      "+------------+------------------+------------------+-----------------+-----------+------------+-----------+-----------+\n",
      "\n"
     ]
    }
   ],
   "source": [
    "payment_type_review=order_info.where(col(\"payment_type\")!=\"not_defined\")\\\n",
    "        .groupBy(\"payment_type\")\\\n",
    "        .agg(avg(\"payment_installments\").alias(\"Avg_paymnt_install\"),\\\n",
    "            sum(\"payment_value\").alias(\"Total_Payment\"),\n",
    "            avg(\"review_score\").alias(\"Avg_review\"),\n",
    "            max(\"review_score\").alias(\"Best_review\"),\n",
    "            min(\"review_score\").alias(\"Worst_review\"),\n",
    "            max(\"payment_installments\").alias(\"Max_Install\"),\n",
    "            min(\"payment_installments\").alias(\"Min_Install\"))\\\n",
    "        .orderBy(col(\"Total_Payment\").desc())\\\n",
    "        .show(10, truncate=True)"
   ]
  },
  {
   "cell_type": "markdown",
   "id": "be3d1c97",
   "metadata": {},
   "source": [
    "The average number of installments and sum of total payment grouped by review categories. "
   ]
  },
  {
   "cell_type": "code",
   "execution_count": 25,
   "id": "fb690276",
   "metadata": {},
   "outputs": [
    {
     "name": "stderr",
     "output_type": "stream",
     "text": [
      "[Stage 34:========================================>             (150 + 3) / 200]\r"
     ]
    },
    {
     "name": "stdout",
     "output_type": "stream",
     "text": [
      "+----------------+------------------+-------------+\n",
      "|          review|Avg_paymnt_install|Total_Payment|\n",
      "+----------------+------------------+-------------+\n",
      "|       Excellent|              2.83|   8955199.96|\n",
      "|       Very Good|              2.75|   2960722.31|\n",
      "|Very Unsatisfied|              3.09|   2231811.62|\n",
      "|            Good|              2.87|   1239884.94|\n",
      "|     Unsatisfied|              2.96|    544035.58|\n",
      "+----------------+------------------+-------------+\n",
      "\n"
     ]
    },
    {
     "name": "stderr",
     "output_type": "stream",
     "text": [
      "\r",
      "[Stage 34:================================================>     (179 + 2) / 200]\r",
      "\r",
      "                                                                                \r"
     ]
    }
   ],
   "source": [
    "review_info=order_info.groupBy(\"review\")\\\n",
    "        .agg(avg(\"payment_installments\").alias(\"Avg_paymnt_install\"),\\\n",
    "            sum(\"payment_value\").alias(\"Total_Payment\"))\\\n",
    "        .orderBy(col(\"Total_Payment\").desc())\n",
    "\n",
    "for c in [\"Avg_paymnt_install\", \"Total_Payment\"]:\n",
    "    review_info = review_info.withColumn(c, round(c, 2))\n",
    "\n",
    "review_info.show(10)"
   ]
  },
  {
   "cell_type": "markdown",
   "id": "74d76a43",
   "metadata": {},
   "source": [
    "## ANALYZING ORDERS AND SELLERS"
   ]
  },
  {
   "cell_type": "code",
   "execution_count": 26,
   "id": "92191536",
   "metadata": {},
   "outputs": [
    {
     "name": "stdout",
     "output_type": "stream",
     "text": [
      "+--------------------+-------------+--------------------+--------------------+-------------+------------+-----+-------------+\n",
      "|            order_id|order_item_id|          product_id|           seller_id|  seller_city|seller_state|price|freight_value|\n",
      "+--------------------+-------------+--------------------+--------------------+-------------+------------+-----+-------------+\n",
      "|00010242fe8c5a6d1...|            1|4244733e06e7ecb49...|48436dade18ac8b2b...|volta redonda|          SP| 58.9|        13.29|\n",
      "|00018f77f2f0320c5...|            1|e5f2d52b802189ee6...|dd7ddc04e1b6c2c61...|    sao paulo|          SP|239.9|        19.93|\n",
      "|000229ec398224ef6...|            1|c777355d18b72b67a...|5b51032eddd242adc...|borda da mata|          MG|199.0|        17.87|\n",
      "|00024acbcdf0a6daa...|            1|7634da152a4610f15...|9d7a1d34a50524090...|       franca|          SP|12.99|        12.79|\n",
      "|00042b26cf59d7ce6...|            1|ac6c3623068f30de0...|df560393f3a51e745...|       loanda|          PR|199.9|        18.14|\n",
      "+--------------------+-------------+--------------------+--------------------+-------------+------------+-----+-------------+\n",
      "only showing top 5 rows\n",
      "\n"
     ]
    }
   ],
   "source": [
    "order_items_sellers = order_items_df.join(sellers_df, \"seller_id\")\\\n",
    "                                    .select(\"order_id\", \"order_item_id\", \"product_id\", \"seller_id\", \"seller_city\", \"seller_state\",\"price\",\"freight_value\")\\\n",
    "\n",
    "order_items_sellers.show(5, truncate=True)"
   ]
  },
  {
   "cell_type": "code",
   "execution_count": 27,
   "id": "13f19cd3",
   "metadata": {},
   "outputs": [
    {
     "name": "stdout",
     "output_type": "stream",
     "text": [
      "root\n",
      " |-- order_id: string (nullable = true)\n",
      " |-- order_item_id: integer (nullable = true)\n",
      " |-- product_id: string (nullable = true)\n",
      " |-- seller_id: string (nullable = true)\n",
      " |-- seller_city: string (nullable = true)\n",
      " |-- seller_state: string (nullable = true)\n",
      " |-- price: double (nullable = true)\n",
      " |-- freight_value: double (nullable = true)\n",
      "\n"
     ]
    }
   ],
   "source": [
    "order_items_sellers.printSchema()"
   ]
  },
  {
   "cell_type": "code",
   "execution_count": 28,
   "id": "94d83be9",
   "metadata": {
    "scrolled": true
   },
   "outputs": [
    {
     "name": "stderr",
     "output_type": "stream",
     "text": [
      "[Stage 38:=============================>                            (1 + 1) / 2]\r"
     ]
    },
    {
     "name": "stdout",
     "output_type": "stream",
     "text": [
      "+-------+--------+-------------+\n",
      "|summary|   price|freight_value|\n",
      "+-------+--------+-------------+\n",
      "|  count|112650.0|     112650.0|\n",
      "|   mean|  120.65|        19.99|\n",
      "| stddev|  183.63|        15.81|\n",
      "|    min|    0.85|          0.0|\n",
      "|    25%|    39.9|        13.08|\n",
      "|    50%|   74.99|        16.26|\n",
      "|    75%|   134.9|        21.15|\n",
      "|    max|  6735.0|       409.68|\n",
      "+-------+--------+-------------+\n",
      "\n"
     ]
    },
    {
     "name": "stderr",
     "output_type": "stream",
     "text": [
      "\r",
      "                                                                                \r"
     ]
    }
   ],
   "source": [
    "summary_sellers = order_items_sellers.select(\"price\", \"freight_value\").summary()\n",
    "\n",
    "for c in [\"price\", \"freight_value\"]:\n",
    "    summary_sellers = summary_sellers.withColumn(c, round(c, 2))\n",
    "\n",
    "summary_sellers.show(10)"
   ]
  },
  {
   "cell_type": "markdown",
   "id": "ebe9c7f0",
   "metadata": {},
   "source": [
    "## TOTAL ORDERS, DELIVERY COSTS AND AVERAGE_COSTS PER SELLER"
   ]
  },
  {
   "cell_type": "markdown",
   "id": "865a9c9c",
   "metadata": {},
   "source": [
    "In the following, a table is created that provides more information on the sellers. It shows basic metrics such as the Total Price, Tota Delivery Costs, Average Delivery Costs, and Total Order for each seller."
   ]
  },
  {
   "cell_type": "code",
   "execution_count": 29,
   "id": "2864869c",
   "metadata": {},
   "outputs": [
    {
     "name": "stderr",
     "output_type": "stream",
     "text": [
      "[Stage 43:===============================================>      (177 + 2) / 200]\r"
     ]
    },
    {
     "name": "stdout",
     "output_type": "stream",
     "text": [
      "+--------------------+-----------+--------------------+------------------+--------------+\n",
      "|           seller_id|total_price|Total_Delivery_Costs|Delivery_Costs_Avg|No_Orders_Sold|\n",
      "+--------------------+-----------+--------------------+------------------+--------------+\n",
      "|6560211a19b47992c...|  123304.83|            27960.94|             13.75|          1854|\n",
      "|4a3ca9315b744ce9f...|  200472.92|            35067.04|             17.65|          1806|\n",
      "|cc419e0650a3c5ba7...|  104288.42|            25668.99|             14.46|          1706|\n",
      "|1f50f920176fa81da...|  106939.21|            35165.77|             18.21|          1404|\n",
      "|da8622b14eb17ae28...|  160236.57|            24955.75|             16.09|          1314|\n",
      "|955fee9216a65b617...|   135171.7|            25430.98|             16.97|          1287|\n",
      "|7a67c85e85bb2ce85...|  141745.53|            20902.85|             17.85|          1160|\n",
      "|ea8482cd71df3c196...|   37177.52|            17544.77|             14.58|          1146|\n",
      "|4869f7a5dfa277a7d...|  229472.63|            20168.07|             17.45|          1132|\n",
      "|3d871de0142ce09b7...|    94914.2|            22433.51|             19.56|          1080|\n",
      "+--------------------+-----------+--------------------+------------------+--------------+\n",
      "only showing top 10 rows\n",
      "\n"
     ]
    },
    {
     "name": "stderr",
     "output_type": "stream",
     "text": [
      "\r",
      "[Stage 43:====================================================> (193 + 2) / 200]\r",
      "\r",
      "                                                                                \r"
     ]
    }
   ],
   "source": [
    "info_by_seller = order_items_sellers.groupBy(\"seller_id\")\\\n",
    "                    .agg(sum(\"price\").alias(\"total_price\"),\\\n",
    "                        sum(\"freight_value\").alias(\"Total_Delivery_Costs\"),\n",
    "                        avg(\"freight_value\").alias(\"Delivery_Costs_Avg\"),\n",
    "                        countDistinct(\"order_id\").alias(\"No_Orders_Sold\"))\\\n",
    "                    .orderBy(col(\"No_Orders_Sold\").desc())\n",
    "\n",
    "for c in ['total_price','Total_Delivery_Costs','Delivery_Costs_Avg','No_Orders_Sold']:\n",
    "    info_by_seller = info_by_seller.withColumn(c, round(c, 2))\n",
    "\n",
    "info_by_seller.show(10)"
   ]
  },
  {
   "cell_type": "markdown",
   "id": "55987c0a",
   "metadata": {},
   "source": [
    "## TOTAL ORDERS, DELIVERY COSTS AND AVERAGE_COSTS PER CITY"
   ]
  },
  {
   "cell_type": "code",
   "execution_count": 30,
   "id": "2cabf5f9",
   "metadata": {},
   "outputs": [
    {
     "name": "stderr",
     "output_type": "stream",
     "text": [
      "[Stage 47:============================================>         (166 + 2) / 200]\r"
     ]
    },
    {
     "name": "stdout",
     "output_type": "stream",
     "text": [
      "+--------------------+-----------+--------------------+------------------+----------------+\n",
      "|         seller_city|Total_price|Total_Delivery_Costs|Delivery_Costs_Avg|No_Orders_Selled|\n",
      "+--------------------+-----------+--------------------+------------------+----------------+\n",
      "|           sao paulo| 2702878.14|           478867.99|             17.11|           24588|\n",
      "|            ibitinga|  624592.94|           137681.07|             17.77|            6565|\n",
      "|            curitiba|  470759.82|            71116.02|             23.58|            2722|\n",
      "|         santo andre|   228561.6|            46249.18|              15.6|            2711|\n",
      "|      belo horizonte|  207671.23|            46556.88|             17.95|            2414|\n",
      "|      rio de janeiro|  358413.59|            46224.29|             18.93|            2193|\n",
      "|           guarulhos|  329494.38|            47287.87|             20.02|            2071|\n",
      "|      ribeirao preto|  275976.44|            38705.73|             17.06|            2019|\n",
      "|sao jose do rio p...|  195863.38|            50807.22|              19.7|            1973|\n",
      "|             maringa|  207257.51|            38652.24|             17.41|            1860|\n",
      "+--------------------+-----------+--------------------+------------------+----------------+\n",
      "only showing top 10 rows\n",
      "\n"
     ]
    },
    {
     "name": "stderr",
     "output_type": "stream",
     "text": [
      "\r",
      "[Stage 47:===================================================>  (190 + 2) / 200]\r",
      "\r",
      "                                                                                \r"
     ]
    }
   ],
   "source": [
    "info_by_city = order_items_sellers.groupBy(\"seller_city\")\\\n",
    "                    .agg(sum(\"price\").alias(\"Total_price\"),\\\n",
    "                        sum(\"freight_value\").alias(\"Total_Delivery_Costs\"),\n",
    "                        avg(\"freight_value\").alias(\"Delivery_Costs_Avg\"),\n",
    "                        countDistinct(\"order_id\").alias(\"No_Orders_Selled\"))\\\n",
    "                    .orderBy(col(\"No_Orders_Selled\").desc())\n",
    "\n",
    "\n",
    "for c in ['Total_price','Total_Delivery_Costs','Delivery_Costs_Avg','No_Orders_Selled']:\n",
    "    info_by_city = info_by_city.withColumn(c, round(c, 2))\n",
    "\n",
    "info_by_city.show(10)"
   ]
  },
  {
   "cell_type": "markdown",
   "id": "90b157c2",
   "metadata": {},
   "source": [
    "## TOTAL ORDERS, DELIVERY COSTS AND AVERAGE_COSTS PER STATE"
   ]
  },
  {
   "cell_type": "code",
   "execution_count": 31,
   "id": "e501b106",
   "metadata": {},
   "outputs": [
    {
     "name": "stderr",
     "output_type": "stream",
     "text": [
      "[Stage 50:===================================================>  (189 + 2) / 200]\r"
     ]
    },
    {
     "name": "stdout",
     "output_type": "stream",
     "text": [
      "+------------+-----------+--------------------+------------------+----------------+\n",
      "|seller_state|Total_price|Total_Delivery_Costs|Delivery_Costs_Avg|No_Orders_Selled|\n",
      "+------------+-----------+--------------------+------------------+----------------+\n",
      "|          SP| 8753396.21|          1482487.67|             18.45|           80342|\n",
      "|          MG| 1011564.74|           212595.06|             24.08|            8827|\n",
      "|          PR| 1261887.21|           197013.52|             22.72|            8671|\n",
      "|          RJ|  843984.22|             93829.9|             19.47|            4818|\n",
      "|          SC|  632426.07|           106547.06|             26.15|            4075|\n",
      "|          RS|  378559.54|            57243.09|             26.03|            2199|\n",
      "|          DF|   97749.48|            18494.06|             20.57|             899|\n",
      "|          BA|  285561.56|            19700.68|             30.64|             643|\n",
      "|          GO|   66399.21|             12565.5|             24.16|             520|\n",
      "|          PE|   91493.85|            12392.46|             27.66|             448|\n",
      "+------------+-----------+--------------------+------------------+----------------+\n",
      "only showing top 10 rows\n",
      "\n"
     ]
    },
    {
     "name": "stderr",
     "output_type": "stream",
     "text": [
      "\r",
      "                                                                                \r"
     ]
    }
   ],
   "source": [
    "info_by_state = order_items_sellers.groupBy(\"seller_state\")\\\n",
    "                    .agg(sum(\"price\").alias(\"Total_price\"),\\\n",
    "                        sum(\"freight_value\").alias(\"Total_Delivery_Costs\"),\n",
    "                        avg(\"freight_value\").alias(\"Delivery_Costs_Avg\"),\n",
    "                        count(\"order_id\").alias(\"No_Orders_Selled\"))\\\n",
    "                    .orderBy(col(\"No_Orders_Selled\").desc())\n",
    "\n",
    "for c in ['Total_price','Total_Delivery_Costs','Delivery_Costs_Avg','No_Orders_Selled']:\n",
    "    info_by_state = info_by_state.withColumn(c, round(c, 2))\n",
    "\n",
    "info_by_state.show(10)"
   ]
  },
  {
   "cell_type": "markdown",
   "id": "b8567a57",
   "metadata": {},
   "source": [
    "# Which are our top 10 sellers based on the rating?"
   ]
  },
  {
   "cell_type": "code",
   "execution_count": 32,
   "id": "08f8f1ac",
   "metadata": {},
   "outputs": [
    {
     "name": "stderr",
     "output_type": "stream",
     "text": [
      "[Stage 54:=============================>                            (1 + 1) / 2]\r"
     ]
    },
    {
     "name": "stdout",
     "output_type": "stream",
     "text": [
      "+--------------------+---------------+------------+-------------+------+-------------+------------+---------+\n",
      "|           seller_id|    seller_city|seller_state|payment_value| price|freight_value|review_score|   review|\n",
      "+--------------------+---------------+------------+-------------+------+-------------+------------+---------+\n",
      "|325f3178fb58e2a97...|taboao da serra|          SP|        78.43|  27.9|         3.81|           5|Excellent|\n",
      "|a17f621c590ea0fab...|       sorocaba|          SP|        78.43| 21.33|        25.39|           5|Excellent|\n",
      "|1b4c3a6f53068f0b6...|    sao ludgero|          SC|        188.4| 159.9|         28.5|           5|Excellent|\n",
      "|ea8482cd71df3c196...|      sao paulo|          SP|        50.09| 34.99|         15.1|           3|     Good|\n",
      "|d1c281d3ae1492323...|       ibitinga|          SP|       169.76|151.99|        17.77|           5|Excellent|\n",
      "|c8b3445d737de6bef...|      sao paulo|          SP|        61.72| 49.99|        11.73|           5|Excellent|\n",
      "|6560211a19b47992c...|      sao paulo|          SP|        69.14|  55.0|        14.14|           5|Excellent|\n",
      "|9674754b5a0cb32b6...|      sao paulo|          SP|        55.78|  46.9|         8.88|           5|Excellent|\n",
      "|406822777a0b9eb5c...|          tatui|          SP|        74.63|  59.9|        14.73|           5|Excellent|\n",
      "|53e4c6e0f4312d4d2...|       pedreira|          SP|       101.32| 27.99|        22.67|           4|Very Good|\n",
      "+--------------------+---------------+------------+-------------+------+-------------+------------+---------+\n",
      "only showing top 10 rows\n",
      "\n"
     ]
    },
    {
     "name": "stderr",
     "output_type": "stream",
     "text": [
      "\r",
      "                                                                                \r"
     ]
    }
   ],
   "source": [
    "sellers_review = order_items_sellers.join(order_info, \"order_id\")\\\n",
    "                                    .select(\"seller_id\", \"seller_city\", \"seller_state\", \"payment_value\", \n",
    "                                            \"price\",\"freight_value\", \"review_score\", \"review\")\n",
    "\n",
    "sellers_review.show(10)"
   ]
  },
  {
   "cell_type": "markdown",
   "id": "4b1e1806",
   "metadata": {},
   "source": [
    "## TOP SELLERS ACCORDING TO THEIR REVENUE AND THE AVG REVIEW"
   ]
  },
  {
   "cell_type": "code",
   "execution_count": 33,
   "id": "11e0cea9",
   "metadata": {},
   "outputs": [
    {
     "name": "stderr",
     "output_type": "stream",
     "text": [
      "[Stage 61:================================================>     (180 + 2) / 200]\r"
     ]
    },
    {
     "name": "stdout",
     "output_type": "stream",
     "text": [
      "+--------------------+-------------+--------------+----------+------------------+\n",
      "|           seller_id|Total_Revenue|Delivery_Costs|avg_review|Total_Product_Cost|\n",
      "+--------------------+-------------+--------------+----------+------------------+\n",
      "|53243585a1d6dc264...|    242591.55|       14137.8|      4.07|         256729.35|\n",
      "|4869f7a5dfa277a7d...|    236465.64|      20621.79|      4.11|         257087.43|\n",
      "|4a3ca9315b744ce9f...|    213208.27|      37258.93|       3.8|          250467.2|\n",
      "|fa1c13f2614d7b5c4...|    202716.62|      10398.21|      4.34|         213114.83|\n",
      "|7c67e1448b00f6e96...|     198118.3|      54262.15|      3.39|         252380.45|\n",
      "|7e93a43ef30c4f03f...|    182648.18|        6560.8|      4.21|         189208.98|\n",
      "|da8622b14eb17ae28...|    171055.17|      26704.13|      4.07|          197759.3|\n",
      "|7a67c85e85bb2ce85...|    149554.88|      21981.23|      4.23|         171536.11|\n",
      "|1025f0e2d44d7041d...|    142646.77|      34792.25|      3.86|         177439.02|\n",
      "|955fee9216a65b617...|    135982.11|      25642.62|      4.05|         161624.73|\n",
      "+--------------------+-------------+--------------+----------+------------------+\n",
      "only showing top 10 rows\n",
      "\n"
     ]
    },
    {
     "name": "stderr",
     "output_type": "stream",
     "text": [
      "\r",
      "                                                                                \r"
     ]
    }
   ],
   "source": [
    "top_sellers_review = sellers_review.groupBy(\"seller_id\")\\\n",
    "                                    .agg(sum(\"price\").alias(\"Total_Revenue\"), \n",
    "                                        sum(\"freight_value\").alias(\"Delivery_Costs\"), \n",
    "                                        avg(\"review_score\").alias(\"avg_review\"))\\\n",
    "                                    .withColumn(\"Total_Product_Cost\", col(\"Total_Revenue\")+col(\"Delivery_Costs\"))\\\n",
    "                                    .orderBy(col(\"Total_Revenue\").desc())\n",
    "\n",
    "for c in ['Total_Revenue','Delivery_Costs','avg_review', 'Total_Product_Cost']:\n",
    "    top_sellers_review = top_sellers_review.withColumn(c, round(c, 2))\n",
    "\n",
    "top_sellers_review.show(10)"
   ]
  },
  {
   "cell_type": "markdown",
   "id": "829230d4",
   "metadata": {},
   "source": [
    "## TOP SELLERS ACCORDING TO THE REVENUE COMPARED WITH THE REVIEW"
   ]
  },
  {
   "cell_type": "code",
   "execution_count": 34,
   "id": "86c3462b",
   "metadata": {},
   "outputs": [
    {
     "name": "stderr",
     "output_type": "stream",
     "text": [
      "                                                                                \r"
     ]
    },
    {
     "name": "stdout",
     "output_type": "stream",
     "text": [
      "+--------------------+---------+--------+-----------+---------+----------------+-------------+\n",
      "|           seller_id|Excellent|    Good|Unsatisfied|Very Good|Very Unsatisfied|Total_Revenue|\n",
      "+--------------------+---------+--------+-----------+---------+----------------+-------------+\n",
      "|53243585a1d6dc264...|141474.66|17910.06|     2898.8| 57082.38|        23225.65|    242591.55|\n",
      "|4869f7a5dfa277a7d...|139216.53| 19755.0|    5513.97| 44011.74|         27968.4|    236465.64|\n",
      "|4a3ca9315b744ce9f...|101326.21|28196.73|   11138.55|  40481.2|        32065.58|    213208.27|\n",
      "|fa1c13f2614d7b5c4...|142597.21| 7702.14|    4793.25| 32375.62|         15248.4|    202716.62|\n",
      "|7c67e1448b00f6e96...| 64983.95|29442.83|   11836.68| 47464.44|         44390.4|     198118.3|\n",
      "|7e93a43ef30c4f03f...|116963.43|12803.81|    1386.35| 30074.67|        21419.92|    182648.18|\n",
      "|da8622b14eb17ae28...| 95365.43| 14500.4|     7778.4| 32629.07|        20781.87|    171055.17|\n",
      "|7a67c85e85bb2ce85...| 92312.91|12139.98|    4813.62| 27806.35|        12482.02|    149554.88|\n",
      "|1025f0e2d44d7041d...| 74358.25|10897.37|    5986.54|  30389.4|        21015.21|    142646.77|\n",
      "|955fee9216a65b617...| 71999.59|14198.81|    5940.68| 28836.09|        15006.94|    135982.11|\n",
      "+--------------------+---------+--------+-----------+---------+----------------+-------------+\n",
      "only showing top 10 rows\n",
      "\n"
     ]
    }
   ],
   "source": [
    "top_sellers_review_2 = sellers_review.groupBy(\"seller_id\")\\\n",
    "                                    .pivot(\"review\")\\\n",
    "                                    .agg(sum(\"price\"))\\\n",
    "                                    .withColumn(\"Total_Revenue\", col(\"Excellent\")+col(\"Good\")+col(\"Unsatisfied\")+col(\"Very Good\")+col(\"Very Unsatisfied\"))\\\n",
    "                                    .orderBy(col(\"Total_Revenue\").desc())\n",
    "\n",
    "for c in ['Excellent','Very Good','Good','Unsatisfied', \"Very Unsatisfied\", \"Total_Revenue\"]:\n",
    "    top_sellers_review_2 = top_sellers_review_2.withColumn(c, round(c, 2))\n",
    "\n",
    "top_sellers_review_2.show(10)"
   ]
  },
  {
   "cell_type": "markdown",
   "id": "e7d2cd59",
   "metadata": {},
   "source": [
    "### BEST SELLERS ACCORDING TO THE NUMBER OF REVIEWS"
   ]
  },
  {
   "cell_type": "code",
   "execution_count": 35,
   "id": "af2a3140",
   "metadata": {},
   "outputs": [
    {
     "name": "stderr",
     "output_type": "stream",
     "text": [
      "[Stage 89:============================================>         (165 + 2) / 200]\r"
     ]
    },
    {
     "name": "stdout",
     "output_type": "stream",
     "text": [
      "+--------------------+---------+----+-----------+---------+----------------+-------------+\n",
      "|           seller_id|Excellent|Good|Unsatisfied|Very Good|Very Unsatisfied|Total_Reviews|\n",
      "+--------------------+---------+----+-----------+---------+----------------+-------------+\n",
      "|1f50f920176fa81da...|     1134| 151|         69|      361|             294|         2009|\n",
      "|cc419e0650a3c5ba7...|     1091| 178|         59|      324|             233|         1885|\n",
      "|6560211a19b47992c...|     1069| 230|        101|      435|             276|         2111|\n",
      "|4a3ca9315b744ce9f...|     1021| 274|        103|      409|             321|         2128|\n",
      "|da8622b14eb17ae28...|      948| 146|         66|      312|             184|         1656|\n",
      "|955fee9216a65b617...|      817| 149|         63|      335|             153|         1517|\n",
      "|7a67c85e85bb2ce85...|      752| 102|         38|      246|              98|         1236|\n",
      "|1025f0e2d44d7041d...|      750| 121|         63|      296|             235|         1465|\n",
      "|4869f7a5dfa277a7d...|      699|  99|         33|      211|             136|         1178|\n",
      "|3d871de0142ce09b7...|      657| 115|         39|      274|             108|         1193|\n",
      "+--------------------+---------+----+-----------+---------+----------------+-------------+\n",
      "only showing top 10 rows\n",
      "\n"
     ]
    },
    {
     "name": "stderr",
     "output_type": "stream",
     "text": [
      "\r",
      "[Stage 89:==================================================>   (188 + 2) / 200]\r",
      "\r",
      "                                                                                \r"
     ]
    }
   ],
   "source": [
    "top_sellers_review_3 = sellers_review.groupBy(\"seller_id\")\\\n",
    "                                    .pivot(\"review\")\\\n",
    "                                    .agg(count(\"review_score\").alias(\"No_Reviews\"))\\\n",
    "                                    .withColumn(\"Total_Reviews\", col(\"Excellent\")+col(\"Very Good\")+col(\"Good\")+\n",
    "                                                col(\"Unsatisfied\")+col(\"Very Unsatisfied\"))\\\n",
    "                                    .orderBy(col(\"Excellent\").desc(), col(\"Very Good\").desc(), col(\"Good\").desc())\n",
    "\n",
    "for c in ['Excellent','Very Good','Good','Unsatisfied', \"Very Unsatisfied\"]:\n",
    "    top_sellers_review_3 = top_sellers_review_3.withColumn(c, round(c, 2))\n",
    "\n",
    "top_sellers_review_3.show(10)"
   ]
  },
  {
   "cell_type": "markdown",
   "id": "6901b47e",
   "metadata": {},
   "source": [
    "### BEST SELLERS ACCORDING TO THE NUMBER OF REVIEWS AND THEIR RATINGS"
   ]
  },
  {
   "cell_type": "code",
   "execution_count": 36,
   "id": "79824c18",
   "metadata": {},
   "outputs": [
    {
     "name": "stderr",
     "output_type": "stream",
     "text": [
      "[Stage 96:==================================================>   (187 + 2) / 200]\r"
     ]
    },
    {
     "name": "stdout",
     "output_type": "stream",
     "text": [
      "+--------------------+-------------+--------------+--------------+---------+----------------+---------------------+\n",
      "|           seller_id|Total_Reviews|Excellent_Rate|Very_Good_Rate|Good_Rate|Unsatisfied_Rate|Very_Unsatisfied_Rate|\n",
      "+--------------------+-------------+--------------+--------------+---------+----------------+---------------------+\n",
      "|f7496d659ca9fdaf3...|           29|         82.76|           6.9|     3.45|            3.45|                 3.45|\n",
      "|d9a84e1403de8da0c...|           67|          80.6|         10.45|     2.99|            1.49|                 4.48|\n",
      "|b410bdd36d5db7a65...|           45|          80.0|         13.33|     2.22|            2.22|                 2.22|\n",
      "|d921b68bf747894be...|           82|         78.05|         10.98|      6.1|            1.22|                 3.66|\n",
      "|9d5a9018aee56acb3...|           86|         77.91|           9.3|     1.16|            3.49|                 8.14|\n",
      "|0432ead42b6c8a0bd...|           95|         76.84|         12.63|     2.11|            1.05|                 7.37|\n",
      "|e49c26c3edfa46d22...|           42|         76.19|          9.52|     7.14|            2.38|                 4.76|\n",
      "|ac3508719a1d8f5b7...|          105|         76.19|         14.29|     4.76|            0.95|                 3.81|\n",
      "|729b2d09b2a0bdab2...|           63|         76.19|          12.7|     4.76|            1.59|                 4.76|\n",
      "|0d33a55da925bbf1f...|           25|          76.0|          12.0|      4.0|             4.0|                  4.0|\n",
      "+--------------------+-------------+--------------+--------------+---------+----------------+---------------------+\n",
      "only showing top 10 rows\n",
      "\n"
     ]
    },
    {
     "name": "stderr",
     "output_type": "stream",
     "text": [
      "\r",
      "                                                                                \r"
     ]
    }
   ],
   "source": [
    "best_sellers = top_sellers_review_3.withColumn(\"Excellent_Rate\", col(\"Excellent\")/col(\"Total_Reviews\")*100)\\\n",
    "                                    .withColumn(\"Very_Good_Rate\", col(\"Very Good\")/col(\"Total_Reviews\")*100)\\\n",
    "                                    .withColumn(\"Good_Rate\", col(\"Good\")/col(\"Total_Reviews\")*100)\\\n",
    "                                    .withColumn(\"Unsatisfied_Rate\", col(\"Unsatisfied\")/col(\"Total_Reviews\")*100)\\\n",
    "                                    .withColumn(\"Very_Unsatisfied_Rate\", col(\"Very Unsatisfied\")/col(\"Total_Reviews\")*100)\\\n",
    "                                    .drop('Excellent','Very Good','Good','Unsatisfied', \"Very Unsatisfied\")\\\n",
    "                                    .orderBy(col(\"Excellent_Rate\").desc())\n",
    "\n",
    "for c in ['Excellent_Rate','Very_Good_Rate','Good_Rate','Unsatisfied_Rate', \"Very_Unsatisfied_Rate\"]:\n",
    "    best_sellers = best_sellers.withColumn(c, round(c, 2))\n",
    "\n",
    "best_sellers.show(10)"
   ]
  },
  {
   "cell_type": "markdown",
   "id": "9e68ea84",
   "metadata": {},
   "source": [
    "### WORST SELLERS - REVIEWS RATING"
   ]
  },
  {
   "cell_type": "code",
   "execution_count": 37,
   "id": "137eef70",
   "metadata": {
    "scrolled": true
   },
   "outputs": [
    {
     "name": "stderr",
     "output_type": "stream",
     "text": [
      "[Stage 103:==============================================>      (174 + 3) / 200]\r"
     ]
    },
    {
     "name": "stdout",
     "output_type": "stream",
     "text": [
      "+--------------------+-------------+--------------+--------------+---------+----------------+---------------------+\n",
      "|           seller_id|Total_Reviews|Excellent_Rate|Very_Good_Rate|Good_Rate|Unsatisfied_Rate|Very_Unsatisfied_Rate|\n",
      "+--------------------+-------------+--------------+--------------+---------+----------------+---------------------+\n",
      "|1ca7077d890b907f8...|          137|         18.25|           7.3|     8.76|            6.57|                59.12|\n",
      "|2709af9587499e95e...|           47|         31.91|          8.51|     2.13|            4.26|                53.19|\n",
      "|10ff823eda2b032e2...|           17|         29.41|          5.88|     5.88|            5.88|                52.94|\n",
      "|b5abf4f36adc04311...|           13|         23.08|         15.38|     7.69|            7.69|                46.15|\n",
      "|b19f3ca2ea4759137...|           24|         33.33|          8.33|     8.33|            4.17|                45.83|\n",
      "|26e2c91ef821e1ff8...|           18|         22.22|          5.56|    22.22|            5.56|                44.44|\n",
      "|a36ac007a4d18f865...|            9|         22.22|         11.11|    11.11|           11.11|                44.44|\n",
      "|54965bbe3e4f07ae0...|           83|         34.94|         12.05|     7.23|            3.61|                42.17|\n",
      "|099095b050cfe8eb1...|           20|          40.0|           5.0|      5.0|            10.0|                 40.0|\n",
      "|2eb70248d66e0e3ef...|          215|         24.19|         12.56|    13.02|           11.16|                39.07|\n",
      "+--------------------+-------------+--------------+--------------+---------+----------------+---------------------+\n",
      "only showing top 10 rows\n",
      "\n"
     ]
    },
    {
     "name": "stderr",
     "output_type": "stream",
     "text": [
      "\r",
      "[Stage 103:===================================================> (194 + 3) / 200]\r",
      "\r",
      "                                                                                \r"
     ]
    }
   ],
   "source": [
    "worst_sellers = top_sellers_review_3.withColumn(\"Excellent_Rate\", col(\"Excellent\")/col(\"Total_Reviews\")*100)\\\n",
    "                                    .withColumn(\"Very_Good_Rate\", col(\"Very Good\")/col(\"Total_Reviews\")*100)\\\n",
    "                                    .withColumn(\"Good_Rate\", col(\"Good\")/col(\"Total_Reviews\")*100)\\\n",
    "                                    .withColumn(\"Unsatisfied_Rate\", col(\"Unsatisfied\")/col(\"Total_Reviews\")*100)\\\n",
    "                                    .withColumn(\"Very_Unsatisfied_Rate\", col(\"Very Unsatisfied\")/col(\"Total_Reviews\")*100)\\\n",
    "                                    .drop('Excellent','Very Good','Good','Unsatisfied', \"Very Unsatisfied\")\\\n",
    "                                    .orderBy(col(\"Very_Unsatisfied_Rate\").desc())\n",
    "\n",
    "for c in ['Excellent_Rate','Very_Good_Rate','Good_Rate','Unsatisfied_Rate', \"Very_Unsatisfied_Rate\"]:\n",
    "    worst_sellers = worst_sellers.withColumn(c, round(c, 2))\n",
    "\n",
    "worst_sellers.show(10)"
   ]
  },
  {
   "cell_type": "markdown",
   "id": "4b7ed8d5",
   "metadata": {},
   "source": [
    "### TOP SELLERS ACCORDING TO THE NUMBER OF REVIEWS AND THEIR RATINGS"
   ]
  },
  {
   "cell_type": "code",
   "execution_count": 38,
   "id": "ca2b4817",
   "metadata": {
    "scrolled": true
   },
   "outputs": [
    {
     "name": "stderr",
     "output_type": "stream",
     "text": [
      "[Stage 110:==============================================>      (177 + 3) / 200]\r"
     ]
    },
    {
     "name": "stdout",
     "output_type": "stream",
     "text": [
      "+--------------------+-------------+--------------+--------------+---------+----------------+---------------------+\n",
      "|           seller_id|Total_Reviews|Excellent_Rate|Very_Good_Rate|Good_Rate|Unsatisfied_Rate|Very_Unsatisfied_Rate|\n",
      "+--------------------+-------------+--------------+--------------+---------+----------------+---------------------+\n",
      "|4a3ca9315b744ce9f...|         2128|         47.98|         19.22|    12.88|            4.84|                15.08|\n",
      "|6560211a19b47992c...|         2111|         50.64|         20.61|     10.9|            4.78|                13.07|\n",
      "|1f50f920176fa81da...|         2009|         56.45|         17.97|     7.52|            3.43|                14.63|\n",
      "|cc419e0650a3c5ba7...|         1885|         57.88|         17.19|     9.44|            3.13|                12.36|\n",
      "|da8622b14eb17ae28...|         1656|         57.25|         18.84|     8.82|            3.99|                11.11|\n",
      "|955fee9216a65b617...|         1517|         53.86|         22.08|     9.82|            4.15|                10.09|\n",
      "|1025f0e2d44d7041d...|         1465|         51.19|          20.2|     8.26|             4.3|                16.04|\n",
      "|7c67e1448b00f6e96...|         1454|         33.63|         23.38|    14.51|            5.78|                 22.7|\n",
      "|7a67c85e85bb2ce85...|         1236|         60.84|          19.9|     8.25|            3.07|                 7.93|\n",
      "|ea8482cd71df3c196...|         1233|         51.74|         21.09|    10.71|            4.06|                12.41|\n",
      "+--------------------+-------------+--------------+--------------+---------+----------------+---------------------+\n",
      "only showing top 10 rows\n",
      "\n"
     ]
    },
    {
     "name": "stderr",
     "output_type": "stream",
     "text": [
      "\r",
      "[Stage 110:==================================================>  (192 + 2) / 200]\r",
      "\r",
      "                                                                                \r"
     ]
    }
   ],
   "source": [
    "most_reviews = top_sellers_review_3.withColumn(\"Excellent_Rate\", col(\"Excellent\")/col(\"Total_Reviews\")*100)\\\n",
    "                                    .withColumn(\"Very_Good_Rate\", col(\"Very Good\")/col(\"Total_Reviews\")*100)\\\n",
    "                                    .withColumn(\"Good_Rate\", col(\"Good\")/col(\"Total_Reviews\")*100)\\\n",
    "                                    .withColumn(\"Unsatisfied_Rate\", col(\"Unsatisfied\")/col(\"Total_Reviews\")*100)\\\n",
    "                                    .withColumn(\"Very_Unsatisfied_Rate\", col(\"Very Unsatisfied\")/col(\"Total_Reviews\")*100)\\\n",
    "                                    .drop('Excellent','Very Good','Good','Unsatisfied', \"Very Unsatisfied\")\\\n",
    "                                    .orderBy(col(\"Total_Reviews\").desc())\n",
    "\n",
    "for c in ['Excellent_Rate','Very_Good_Rate','Good_Rate','Unsatisfied_Rate', \"Very_Unsatisfied_Rate\"]:\n",
    "    most_reviews = most_reviews.withColumn(c, round(c, 2))\n",
    "\n",
    "most_reviews.show(10)"
   ]
  },
  {
   "cell_type": "code",
   "execution_count": 44,
   "id": "338a071b",
   "metadata": {},
   "outputs": [
    {
     "name": "stderr",
     "output_type": "stream",
     "text": [
      "[Stage 152:==============================================>      (177 + 2) / 200]\r"
     ]
    },
    {
     "name": "stdout",
     "output_type": "stream",
     "text": [
      "+--------------------+-------------+--------------+--------------+---------+----------------+---------------------+\n",
      "|           seller_id|Total_Reviews|Excellent_Rate|Very_Good_Rate|Good_Rate|Unsatisfied_Rate|Very_Unsatisfied_Rate|\n",
      "+--------------------+-------------+--------------+--------------+---------+----------------+---------------------+\n",
      "|ac3508719a1d8f5b7...|          105|         76.19|         14.29|     4.76|            0.95|                 3.81|\n",
      "|289cdb325fb7e7f89...|          126|          75.4|         15.87|     3.97|            0.79|                 3.97|\n",
      "|c3cfdc648177fdbbb...|          324|         74.38|         12.35|     5.25|            1.23|                 6.79|\n",
      "|70c27847eca8195c9...|          103|         72.82|          7.77|     1.94|            5.83|                11.65|\n",
      "|fa40cc5b934574b62...|          352|         72.73|         11.36|      7.1|            2.56|                 6.25|\n",
      "|5cf13accae3222c70...|          163|         72.39|         15.34|     4.29|            1.23|                 6.75|\n",
      "|4371b634e0efc0e22...|          112|         72.32|          12.5|     6.25|            1.79|                 7.14|\n",
      "|612170e34b97004b3...|          117|         71.79|         13.68|     7.69|            0.85|                 5.98|\n",
      "|6edacfd9f9074789d...|          232|         71.12|         13.36|     6.03|            1.29|                 8.19|\n",
      "|12b9676b00f60f3b7...|          140|         70.71|         19.29|      5.0|            2.14|                 2.86|\n",
      "+--------------------+-------------+--------------+--------------+---------+----------------+---------------------+\n",
      "only showing top 10 rows\n",
      "\n"
     ]
    },
    {
     "name": "stderr",
     "output_type": "stream",
     "text": [
      "\r",
      "                                                                                \r"
     ]
    }
   ],
   "source": [
    "most_reviews2 = top_sellers_review_3.withColumn(\"Excellent_Rate\", col(\"Excellent\")/col(\"Total_Reviews\")*100)\\\n",
    "                                    .withColumn(\"Very_Good_Rate\", col(\"Very Good\")/col(\"Total_Reviews\")*100)\\\n",
    "                                    .withColumn(\"Good_Rate\", col(\"Good\")/col(\"Total_Reviews\")*100)\\\n",
    "                                    .withColumn(\"Unsatisfied_Rate\", col(\"Unsatisfied\")/col(\"Total_Reviews\")*100)\\\n",
    "                                    .withColumn(\"Very_Unsatisfied_Rate\", col(\"Very Unsatisfied\")/col(\"Total_Reviews\")*100)\\\n",
    "                                    .drop('Excellent','Very Good','Good','Unsatisfied', \"Very Unsatisfied\")\\\n",
    "                                    .where(col(\"Total_Reviews\")>100)\\\n",
    "                                    .orderBy(col(\"Excellent_Rate\").desc())\n",
    "\n",
    "for c in ['Excellent_Rate','Very_Good_Rate','Good_Rate','Unsatisfied_Rate', \"Very_Unsatisfied_Rate\"]:\n",
    "    most_reviews2 = most_reviews2.withColumn(c, round(c, 2))\n",
    "\n",
    "most_reviews2.show(10)"
   ]
  },
  {
   "cell_type": "markdown",
   "id": "2192ea1f",
   "metadata": {},
   "source": [
    "## Why these sellers are the best?"
   ]
  },
  {
   "cell_type": "code",
   "execution_count": 46,
   "id": "98b3a83d",
   "metadata": {},
   "outputs": [
    {
     "name": "stderr",
     "output_type": "stream",
     "text": [
      "\r",
      "[Stage 155:>                (0 + 2) / 2][Stage 156:>                (0 + 0) / 1]\r",
      "\r",
      "[Stage 156:>                                                        (0 + 1) / 1]\r"
     ]
    },
    {
     "name": "stdout",
     "output_type": "stream",
     "text": [
      "+--------------------+--------------------+------------+------+-------------+--------------------+----------+--------+-----------+\n",
      "|           seller_id|         seller_city|seller_state| price|freight_value|        product_name|descrp_len|pics_qty|Description|\n",
      "+--------------------+--------------------+------------+------+-------------+--------------------+----------+--------+-----------+\n",
      "|1660ad786c27fd935...|sao bernardo do c...|          SP| 130.0|        38.46|computers_accesso...|       978|       3|      Empty|\n",
      "|620c87c171fb2a6dd...|          petropolis|          RJ|  79.9|        25.05|           perfumery|       259|       1|      Short|\n",
      "|620c87c171fb2a6dd...|          petropolis|          RJ|  79.9|        14.73|           perfumery|       259|       1|      Short|\n",
      "|620c87c171fb2a6dd...|          petropolis|          RJ|  79.9|        11.17|           perfumery|       259|       1|      Short|\n",
      "|620c87c171fb2a6dd...|          petropolis|          RJ|  69.9|        24.98|           perfumery|       259|       1|      Short|\n",
      "|33a6f4b1e7cdc2055...|           guarulhos|          SP| 103.0|        17.93|      bed_bath_table|      2201|       1|   Detailed|\n",
      "|c70c1b0d8ca86052f...|         hortolandia|          SP|110.32|         8.03|       health_beauty|       919|       1|      Empty|\n",
      "|c70c1b0d8ca86052f...|         hortolandia|          SP|110.32|         8.03|       health_beauty|       919|       1|      Empty|\n",
      "|c70c1b0d8ca86052f...|         hortolandia|          SP|110.32|         7.64|       health_beauty|       919|       1|      Empty|\n",
      "|c70c1b0d8ca86052f...|         hortolandia|          SP|110.32|        18.87|       health_beauty|       919|       1|      Empty|\n",
      "+--------------------+--------------------+------------+------+-------------+--------------------+----------+--------+-----------+\n",
      "only showing top 10 rows\n",
      "\n"
     ]
    },
    {
     "name": "stderr",
     "output_type": "stream",
     "text": [
      "\r",
      "                                                                                \r"
     ]
    }
   ],
   "source": [
    "orders_sellers_products = order_items_sellers.join(products, \"product_id\")\\\n",
    "                                        .withColumnRenamed(\"product_description_lenght\", \"descrp_len\")\\\n",
    "                                        .withColumnRenamed(\"product_photos_qty\", \"pics_qty\")\\\n",
    "                                        .select(\"seller_id\", \"seller_city\", \"seller_state\",\"price\", \n",
    "                                                \"freight_value\", \"product_name\", \"descrp_len\",\"pics_qty\")\\\n",
    "                                        .withColumn(\"Description\", when(col(\"descrp_len\")<150,\"Brief\")\n",
    "                                                .when((col(\"descrp_len\")>150) & (col(\"descrp_len\")<500), \"Short\")\n",
    "                                                .when((col(\"descrp_len\")>500) & (col(\"descrp_len\")<500), \"Long\")\n",
    "                                                .when(col(\"descrp_len\")>1000, \"Detailed\")\n",
    "                                                .otherwise(\"Empty\"))\n",
    "orders_sellers_products.show(10)"
   ]
  },
  {
   "cell_type": "markdown",
   "id": "bcfc7843",
   "metadata": {},
   "source": [
    "## TOP SELLERS ACCORDING TO THE PRODUCTS SOLD"
   ]
  },
  {
   "cell_type": "code",
   "execution_count": 47,
   "id": "5b9a870c",
   "metadata": {},
   "outputs": [
    {
     "name": "stderr",
     "output_type": "stream",
     "text": [
      "[Stage 163:======================================>              (144 + 2) / 200]\r"
     ]
    },
    {
     "name": "stdout",
     "output_type": "stream",
     "text": [
      "+--------------------+-------------+-------------+-------------+--------+-----------+\n",
      "|           seller_id|Total_Revenue|Delivery_Cost|avg_len_dscrp|avg_pics|No_Products|\n",
      "+--------------------+-------------+-------------+-------------+--------+-----------+\n",
      "|4869f7a5dfa277a7d...|    229472.63|     20168.07|       523.83|    1.59|       1156|\n",
      "|53243585a1d6dc264...|    222776.05|     13080.63|      2027.85|    3.06|        410|\n",
      "|4a3ca9315b744ce9f...|    200472.92|     35067.04|       329.23|    1.13|       1987|\n",
      "|fa1c13f2614d7b5c4...|    194042.03|      10042.7|       608.07|    1.85|        586|\n",
      "|7c67e1448b00f6e96...|    187923.89|     51612.55|       1096.1|    1.06|       1364|\n",
      "|7e93a43ef30c4f03f...|    176431.87|      6322.18|       501.27|    1.76|        340|\n",
      "|da8622b14eb17ae28...|    160236.57|     24955.75|       244.22|    1.01|       1551|\n",
      "|7a67c85e85bb2ce85...|    141745.53|     20902.85|       864.21|    1.26|       1171|\n",
      "|1025f0e2d44d7041d...|    138968.55|     33892.14|       702.96|    1.12|       1428|\n",
      "|955fee9216a65b617...|     135171.7|     25430.98|       998.78|    5.96|       1499|\n",
      "+--------------------+-------------+-------------+-------------+--------+-----------+\n",
      "only showing top 10 rows\n",
      "\n"
     ]
    },
    {
     "name": "stderr",
     "output_type": "stream",
     "text": [
      "\r",
      "[Stage 163:===============================================>     (181 + 3) / 200]\r",
      "\r",
      "                                                                                \r"
     ]
    }
   ],
   "source": [
    "Sellers_by_total_products = orders_sellers_products.groupBy(\"seller_id\")\\\n",
    "                    .agg(sum(\"price\").alias(\"Total_Revenue\"),\n",
    "                        sum(\"freight_value\").alias(\"Delivery_Cost\"), \n",
    "                        avg(\"descrp_len\").alias(\"avg_len_dscrp\"), \n",
    "                        avg(\"pics_qty\").alias(\"avg_pics\"),\n",
    "                        count(\"product_name\").alias(\"No_Products\"))\\\n",
    "                    .orderBy(col(\"Total_Revenue\").desc())\n",
    "\n",
    "for c in ['Total_Revenue','Delivery_Cost','avg_len_dscrp','avg_pics','No_Products']:\n",
    "    Sellers_by_total_products = Sellers_by_total_products.withColumn(c, round(c, 2))\n",
    "\n",
    "Sellers_by_total_products.show(10)"
   ]
  },
  {
   "cell_type": "markdown",
   "id": "b8415e15",
   "metadata": {},
   "source": [
    "## TOP SELLERS ACCORDING TO THE LENGTH DESCRIPTION"
   ]
  },
  {
   "cell_type": "code",
   "execution_count": 161,
   "id": "efb0af10",
   "metadata": {},
   "outputs": [
    {
     "name": "stderr",
     "output_type": "stream",
     "text": [
      "[Stage 431:==================================>                  (132 + 2) / 200]\r"
     ]
    },
    {
     "name": "stdout",
     "output_type": "stream",
     "text": [
      "+--------------------+-------------+-------------+-------------+--------+-----------+\n",
      "|           seller_id|Total_Revenue|Delivery_Cost|avg_len_dscrp|avg_pics|No_Products|\n",
      "+--------------------+-------------+-------------+-------------+--------+-----------+\n",
      "|491a5ada3aa167841...|       2840.0|        33.81|       3992.0|     1.0|          2|\n",
      "|ee27a8f15b1dded4d...|       6499.0|       227.66|       3954.0|     2.0|          1|\n",
      "|3ea00e1dea2b0659d...|        505.0|       144.97|       3908.0|   11.71|          7|\n",
      "|1d29dfba02015238d...|        612.8|       177.12|       3892.0|     1.0|         12|\n",
      "|2039c5e51785b5dde...|        159.9|        13.78|       3860.0|     1.0|          1|\n",
      "|78ef7e885d17f35e2...|        388.0|        65.44|      3818.67|     1.0|          3|\n",
      "|ace601496e211a664...|        165.0|        14.92|       3799.0|     5.0|          1|\n",
      "|6235903333ba7de19...|        94.06|        41.42|       3748.0|     1.0|          1|\n",
      "|b0f2a6122a90a93eb...|        456.6|        69.54|      3722.75|    1.75|          4|\n",
      "|679769a98cfcc6da8...|       7029.0|       438.39|      3615.71|    6.62|         21|\n",
      "+--------------------+-------------+-------------+-------------+--------+-----------+\n",
      "only showing top 10 rows\n",
      "\n"
     ]
    },
    {
     "name": "stderr",
     "output_type": "stream",
     "text": [
      "                                                                                \r"
     ]
    }
   ],
   "source": [
    "top_sellers = orders_sellers_products.groupBy(\"seller_id\")\\\n",
    "                    .agg(sum(\"price\").alias(\"Total_Revenue\"),\n",
    "                        sum(\"freight_value\").alias(\"Delivery_Cost\"), \n",
    "                        avg(\"descrp_len\").alias(\"avg_len_dscrp\"), \n",
    "                        avg(\"pics_qty\").alias(\"avg_pics\"),\n",
    "                        count(\"product_name\").alias(\"No_Products\"))\\\n",
    "                    .orderBy(col(\"avg_len_dscrp\").desc())\n",
    "\n",
    "for c in ['Total_Revenue','Delivery_Cost','avg_len_dscrp','avg_pics','No_Products']:\n",
    "    top_sellers = top_sellers.withColumn(c, round(c, 2))\n",
    "\n",
    "top_sellers.show(10)"
   ]
  },
  {
   "cell_type": "markdown",
   "id": "848c96fe",
   "metadata": {},
   "source": [
    "## HOW IMPORTANT IS THE DESCRIPTION AND THE PICTURES ATTACHED DUE TO THE TOTAL PRODUCTS SOLD"
   ]
  },
  {
   "cell_type": "code",
   "execution_count": 162,
   "id": "8c052c52",
   "metadata": {
    "scrolled": true
   },
   "outputs": [
    {
     "name": "stderr",
     "output_type": "stream",
     "text": [
      "[Stage 436:================================================>    (182 + 2) / 200]\r"
     ]
    },
    {
     "name": "stdout",
     "output_type": "stream",
     "text": [
      "+-----------+-------------+-------------+--------+-----------+\n",
      "|Description|Total_Revenue|Delivery_Cost|avg_pics|No_Products|\n",
      "+-----------+-------------+-------------+--------+-----------+\n",
      "|   Detailed|   4688985.08|    620743.04|    2.45|      27108|\n",
      "|      Empty|   4584046.32|    773349.83|     2.3|      39176|\n",
      "|      Short|   3795274.47|    747288.25|    1.98|      40033|\n",
      "|      Brief|    338288.07|     81915.28|     2.0|       4706|\n",
      "+-----------+-------------+-------------+--------+-----------+\n",
      "\n"
     ]
    },
    {
     "name": "stderr",
     "output_type": "stream",
     "text": [
      "                                                                                \r"
     ]
    }
   ],
   "source": [
    "Description = orders_sellers_products.groupBy(\"Description\")\\\n",
    "                    .agg(sum(\"price\").alias(\"Total_Revenue\"),\n",
    "                        sum(\"freight_value\").alias(\"Delivery_Cost\"), \n",
    "                        avg(\"pics_qty\").alias(\"avg_pics\"),\n",
    "                        count(\"product_name\").alias(\"No_Products\"))\\\n",
    "                    .orderBy(col(\"Total_Revenue\").desc())\n",
    "\n",
    "for c in ['Total_Revenue','Delivery_Cost','avg_pics','No_Products']:\n",
    "    Description = Description.withColumn(c, round(c, 2))\n",
    "\n",
    "Description.show(10)"
   ]
  },
  {
   "cell_type": "markdown",
   "id": "768d233e",
   "metadata": {},
   "source": [
    "# CUSTOMERS ANALYSIS"
   ]
  },
  {
   "cell_type": "markdown",
   "id": "3720d127",
   "metadata": {},
   "source": [
    "For a first analysis, we want to double check how many orders were delivered correclty and how many they had a different end."
   ]
  },
  {
   "cell_type": "code",
   "execution_count": 48,
   "id": "095a55cd",
   "metadata": {},
   "outputs": [
    {
     "name": "stdout",
     "output_type": "stream",
     "text": [
      "+--------------------+------------+----------------+--------------------+--------------+\n",
      "|            order_id|order_status|customer_zipcode|       customer_city|customer_state|\n",
      "+--------------------+------------+----------------+--------------------+--------------+\n",
      "|e481f51cbdc54678b...|   delivered|            3149|           sao paulo|            SP|\n",
      "|53cdb2fc8bc7dce0b...|   delivered|           47813|           barreiras|            BA|\n",
      "|47770eb9100c2d0c4...|   delivered|           75265|          vianopolis|            GO|\n",
      "|949d5b44dbf5de918...|   delivered|           59296|sao goncalo do am...|            RN|\n",
      "|ad21c59c0840e6cb8...|   delivered|            9195|         santo andre|            SP|\n",
      "|a4591c265e18cb1dc...|   delivered|           86320|        congonhinhas|            PR|\n",
      "|136cce7faa42fdb2c...|    invoiced|           98900|          santa rosa|            RS|\n",
      "|6514b8ad8028c9f2c...|   delivered|           26525|           nilopolis|            RJ|\n",
      "|76c6e866289321a7c...|   delivered|           99655|        faxinalzinho|            RS|\n",
      "|e69bfb5eb88e0ed6a...|   delivered|           18075|            sorocaba|            SP|\n",
      "+--------------------+------------+----------------+--------------------+--------------+\n",
      "only showing top 10 rows\n",
      "\n"
     ]
    }
   ],
   "source": [
    "customer_info = orders_df.join(customers_df,\"customer_id\")\\\n",
    "                        .select(\"order_id\", \"order_status\", \"customer_zip_code_prefix\", \"customer_city\", \"customer_state\")\\\n",
    "                        .withColumnRenamed(\"customer_zip_code_prefix\", \"customer_zipcode\")\n",
    "customer_info.show(10)                 "
   ]
  },
  {
   "cell_type": "code",
   "execution_count": 90,
   "id": "f4b68554",
   "metadata": {},
   "outputs": [
    {
     "name": "stderr",
     "output_type": "stream",
     "text": [
      "[Stage 230:=================================================>   (188 + 2) / 200]\r"
     ]
    },
    {
     "name": "stdout",
     "output_type": "stream",
     "text": [
      "+------------+---------+\n",
      "|order_status|No_orders|\n",
      "+------------+---------+\n",
      "|   delivered|    96478|\n",
      "|     shipped|     1107|\n",
      "|    canceled|      625|\n",
      "| unavailable|      609|\n",
      "|    invoiced|      314|\n",
      "|  processing|      301|\n",
      "|     created|        5|\n",
      "|    approved|        2|\n",
      "+------------+---------+\n",
      "\n"
     ]
    },
    {
     "name": "stderr",
     "output_type": "stream",
     "text": [
      "                                                                                \r"
     ]
    }
   ],
   "source": [
    "orders_df.groupBy(\"order_status\")\\\n",
    "        .agg(count(\"customer_id\").alias(\"No_orders\"))\\\n",
    "        .orderBy(col(\"No_orders\").desc())\\\n",
    "        .show(10)"
   ]
  },
  {
   "cell_type": "markdown",
   "id": "8fc1f52a",
   "metadata": {},
   "source": [
    "Close to 97% of the orders were delivered correctly so the delivery service it's really good. Let's check if we can improve any step inside this delivery service. "
   ]
  },
  {
   "cell_type": "markdown",
   "id": "1d30b7f4",
   "metadata": {},
   "source": [
    "## RELIABILITY E-COMERCE PLATFORM"
   ]
  },
  {
   "cell_type": "markdown",
   "id": "c48374cb",
   "metadata": {},
   "source": [
    "What we want to double-check it's the reliability of the e-commerce platform estimation dates delivery, and compare it with the real delivery date confirmed. \n",
    "\n",
    "For this, we need to de-structured the date columns to extract the info from the year, month, and day from the estimation date delivery, the purchased date, and finally the order delivered date. \n",
    "\n",
    "Once we have done this, we can get the difference between the purchased date and the delivery date to know how many days it took to be delivered to the customer. The same for the estimation date. \n",
    "\n",
    "The difference between these 2 columns was calculated for further categorization."
   ]
  },
  {
   "cell_type": "code",
   "execution_count": 103,
   "id": "02c6adf9",
   "metadata": {
    "scrolled": true
   },
   "outputs": [
    {
     "name": "stdout",
     "output_type": "stream",
     "text": [
      "+--------------------+------------+-----------------------------+------------------------+-----------------------------+--------------+---------------+-------------+--------------+---------------+-------------+--------------+---------------+-------------+--------------+------------------+----------+\n",
      "|         customer_id|order_status|order_delivered_customer_date|order_purchase_timestamp|order_estimated_delivery_date|Year_delivered|Month_delivered|Day_delivered|Year_Purchased|Month_Purchased|Day_Purchased|Year_Estimated|Month_Estimated|Day_Estimated|Delivered_Days|Delivered_Est_Days|Difference|\n",
      "+--------------------+------------+-----------------------------+------------------------+-----------------------------+--------------+---------------+-------------+--------------+---------------+-------------+--------------+---------------+-------------+--------------+------------------+----------+\n",
      "|9ef432eb625129730...|   delivered|          2017-10-10 21:25:13|     2017-10-02 10:56:33|          2017-10-18 00:00:00|          2017|             10|           10|          2017|             10|            2|          2017|             10|           18|             8|                16|         8|\n",
      "|b0830fb4747a6c6d2...|   delivered|          2018-08-07 15:27:45|     2018-07-24 20:41:37|          2018-08-13 00:00:00|          2018|              8|            7|          2018|              7|           24|          2018|              8|           13|            13|                19|         6|\n",
      "|41ce2a54c0b03bf34...|   delivered|          2018-08-17 18:06:29|     2018-08-08 08:38:49|          2018-09-04 00:00:00|          2018|              8|           17|          2018|              8|            8|          2018|              9|            4|             9|                26|        17|\n",
      "|f88197465ea7920ad...|   delivered|          2017-12-02 00:28:42|     2017-11-18 19:28:06|          2017-12-15 00:00:00|          2017|             12|            2|          2017|             11|           18|          2017|             12|           15|            14|                27|        13|\n",
      "|8ab97904e6daea886...|   delivered|          2018-02-16 18:17:02|     2018-02-13 21:18:39|          2018-02-26 00:00:00|          2018|              2|           16|          2018|              2|           13|          2018|              2|           26|             3|                13|        10|\n",
      "|503740e9ca751ccdd...|   delivered|          2017-07-26 10:57:55|     2017-07-09 21:57:05|          2017-08-01 00:00:00|          2017|              7|           26|          2017|              7|            9|          2017|              8|            1|            17|                22|         5|\n",
      "|ed0271e0b7da060a3...|    invoiced|                         null|     2017-04-11 12:22:08|          2017-05-09 00:00:00|          null|           null|         null|          2017|              4|           11|          2017|              5|            9|          null|                28|      null|\n",
      "|9bdf08b4b3b52b552...|   delivered|          2017-05-26 12:55:51|     2017-05-16 13:10:30|          2017-06-07 00:00:00|          2017|              5|           26|          2017|              5|           16|          2017|              6|            7|            10|                21|        11|\n",
      "|f54a9f0e6b351c431...|   delivered|          2017-02-02 14:08:10|     2017-01-23 18:29:09|          2017-03-06 00:00:00|          2017|              2|            2|          2017|              1|           23|          2017|              3|            6|             9|                43|        34|\n",
      "|31ad1d1b63eb99624...|   delivered|          2017-08-16 17:14:30|     2017-07-29 11:55:02|          2017-08-23 00:00:00|          2017|              8|           16|          2017|              7|           29|          2017|              8|           23|            17|                24|         7|\n",
      "+--------------------+------------+-----------------------------+------------------------+-----------------------------+--------------+---------------+-------------+--------------+---------------+-------------+--------------+---------------+-------------+--------------+------------------+----------+\n",
      "only showing top 10 rows\n",
      "\n"
     ]
    }
   ],
   "source": [
    "timeline_dates = orders_df.join(customers_df, \"customer_id\")\\\n",
    "                        .select(\"customer_id\", \"order_status\", \"order_delivered_customer_date\", \n",
    "                                \"order_purchase_timestamp\", \"order_estimated_delivery_date\")\\\n",
    "                        .withColumn(\"Year_delivered\", when(col(\"order_delivered_customer_date\")!=\"null\",year(\"order_delivered_customer_date\")))\\\n",
    "                        .withColumn(\"Month_delivered\", when(col(\"order_delivered_customer_date\")!=\"null\",month(\"order_delivered_customer_date\")))\\\n",
    "                        .withColumn(\"Day_delivered\", when(col(\"order_delivered_customer_date\")!=\"null\",dayofmonth(\"order_delivered_customer_date\")))\\\n",
    "                        .withColumn(\"Year_Purchased\", when(col(\"order_purchase_timestamp\")!=\"null\",year(\"order_purchase_timestamp\")))\\\n",
    "                        .withColumn(\"Month_Purchased\", when(col(\"order_purchase_timestamp\")!=\"null\",month(\"order_purchase_timestamp\")))\\\n",
    "                        .withColumn(\"Day_Purchased\", when(col(\"order_purchase_timestamp\")!=\"null\",dayofmonth(\"order_purchase_timestamp\")))\\\n",
    "                        .withColumn(\"Year_Estimated\", when(col(\"order_estimated_delivery_date\")!=\"null\",year(\"order_estimated_delivery_date\")))\\\n",
    "                        .withColumn(\"Month_Estimated\", when(col(\"order_estimated_delivery_date\")!=\"null\",month(\"order_estimated_delivery_date\")))\\\n",
    "                        .withColumn(\"Day_Estimated\", when(col(\"order_estimated_delivery_date\")!=\"null\",dayofmonth(\"order_estimated_delivery_date\")))\\\n",
    "                        .withColumn(\"Delivered_Days\",col(\"Year_delivered\")*365+col(\"Month_delivered\")*30+col(\"Day_delivered\")\n",
    "                                   -col(\"Year_Purchased\")*365-col(\"Month_Purchased\")*30-col(\"Day_Purchased\"))\\\n",
    "                        .withColumn(\"Delivered_Est_Days\", col(\"Year_Estimated\")*365+col(\"Month_Estimated\")*30+col(\"Day_Estimated\")\n",
    "                                   -col(\"Year_Purchased\")*365-col(\"Month_Purchased\")*30-col(\"Day_Purchased\"))\\\n",
    "                        .withColumn(\"Difference\", col(\"Delivered_Est_Days\")-col(\"Delivered_Days\"))\n",
    "\n",
    "timeline_dates.show(10)"
   ]
  },
  {
   "cell_type": "code",
   "execution_count": 85,
   "id": "5145ec27",
   "metadata": {},
   "outputs": [
    {
     "name": "stderr",
     "output_type": "stream",
     "text": [
      "                                                                                \r"
     ]
    },
    {
     "name": "stdout",
     "output_type": "stream",
     "text": [
      "+------------+--------------+----------------+\n",
      "|order_status|avg_deliv_time|avg_est_del_time|\n",
      "+------------+--------------+----------------+\n",
      "|     shipped|          null|           25.71|\n",
      "|    canceled|         20.33|           23.19|\n",
      "|    approved|          null|            26.0|\n",
      "|    invoiced|          null|           25.88|\n",
      "|     created|          null|            29.8|\n",
      "|   delivered|          12.5|           24.35|\n",
      "| unavailable|          null|           24.13|\n",
      "|  processing|          null|           30.76|\n",
      "+------------+--------------+----------------+\n",
      "\n"
     ]
    }
   ],
   "source": [
    "timeline_dates_analysis = timeline_dates.groupBy(\"order_status\")\\\n",
    "                                        .agg(avg(\"Delivered_Days\").alias(\"avg_deliv_time\"),\n",
    "                                            avg(\"Delivered_Est_Days\").alias(\"avg_est_del_time\"))\n",
    "\n",
    "for c in ['avg_deliv_time','avg_est_del_time']:\n",
    "    timeline_dates_analysis = timeline_dates_analysis.withColumn(c, round(c, 2))\n",
    "\n",
    "timeline_dates_analysis.show(10)"
   ]
  },
  {
   "cell_type": "code",
   "execution_count": 133,
   "id": "f7a2ef8c",
   "metadata": {
    "scrolled": true
   },
   "outputs": [
    {
     "name": "stdout",
     "output_type": "stream",
     "text": [
      "+--------------+--------------+----------------+\n",
      "|Year_delivered|avg_deliv_time|avg_est_del_time|\n",
      "+--------------+--------------+----------------+\n",
      "|          2018|          12.8|           23.76|\n",
      "|          null|          null|           25.34|\n",
      "|          2016|         19.46|           55.08|\n",
      "|          2017|         12.05|           24.95|\n",
      "+--------------+--------------+----------------+\n",
      "\n"
     ]
    }
   ],
   "source": [
    "timeline_dates_analysis_2 = timeline_dates.groupBy(\"Year_delivered\")\\\n",
    "                                        .agg(avg(\"Delivered_Days\").alias(\"avg_deliv_time\"),\n",
    "                                            avg(\"Delivered_Est_Days\").alias(\"avg_est_del_time\"))\n",
    "\n",
    "for c in ['avg_deliv_time','avg_est_del_time']:\n",
    "    timeline_dates_analysis_2 = timeline_dates_analysis_2.withColumn(c, round(c, 2))\n",
    "\n",
    "timeline_dates_analysis_2.show(10)"
   ]
  },
  {
   "cell_type": "markdown",
   "id": "f98205db",
   "metadata": {},
   "source": [
    "Reliability in terms of accuracy for a delivery service it's very important. The client wants to know exactly the arrival of the purchase. We shouldn't accept more than 10 days of difference between the estimation date arrival and the real one. According to this, we have categorized the Difference column into 4 categories to have the correct view of our data"
   ]
  },
  {
   "cell_type": "code",
   "execution_count": 139,
   "id": "0253b4ea",
   "metadata": {},
   "outputs": [
    {
     "name": "stdout",
     "output_type": "stream",
     "text": [
      "+--------------------+------------------------+--------------------+--------------+----------+--------------+-----------+\n",
      "|         customer_id|customer_zip_code_prefix|       customer_city|customer_state|Difference|Year_Purchased|Reliability|\n",
      "+--------------------+------------------------+--------------------+--------------+----------+--------------+-----------+\n",
      "|9ef432eb625129730...|                    3149|           sao paulo|            SP|         8|          2017|     Medium|\n",
      "|b0830fb4747a6c6d2...|                   47813|           barreiras|            BA|         6|          2018|     Medium|\n",
      "|41ce2a54c0b03bf34...|                   75265|          vianopolis|            GO|        17|          2018|        Low|\n",
      "|f88197465ea7920ad...|                   59296|sao goncalo do am...|            RN|        13|          2017|        Low|\n",
      "|8ab97904e6daea886...|                    9195|         santo andre|            SP|        10|          2018|     Medium|\n",
      "|503740e9ca751ccdd...|                   86320|        congonhinhas|            PR|         5|          2017|     Medium|\n",
      "|ed0271e0b7da060a3...|                   98900|          santa rosa|            RS|      null|          2017|    Unknown|\n",
      "|9bdf08b4b3b52b552...|                   26525|           nilopolis|            RJ|        11|          2017|        Low|\n",
      "|f54a9f0e6b351c431...|                   99655|        faxinalzinho|            RS|        34|          2017|        Low|\n",
      "|31ad1d1b63eb99624...|                   18075|            sorocaba|            SP|         7|          2017|     Medium|\n",
      "+--------------------+------------------------+--------------------+--------------+----------+--------------+-----------+\n",
      "only showing top 10 rows\n",
      "\n"
     ]
    }
   ],
   "source": [
    "customers_delivery = customers_df.join(timeline_dates, \"customer_id\")\\\n",
    "                                .select(\"customer_id\", \"customer_zip_code_prefix\",\"customer_city\",\"customer_state\",\n",
    "                                        \"Difference\", \"Year_Purchased\")\\\n",
    "                                .withColumn(\"Reliability\", when(col(\"Difference\")<=3, \"High\") \n",
    "                                                        .when((col(\"Difference\")>3) & (col(\"Difference\")<=10), \"Medium\")\n",
    "                                                        .when(col(\"Difference\")>10, \"Low\")\n",
    "                                                        .otherwise(\"Unknown\"))\n",
    "\n",
    "customers_delivery.show(10)"
   ]
  },
  {
   "cell_type": "markdown",
   "id": "ee353d62",
   "metadata": {},
   "source": [
    "When we group by the Reliability we can see how reliable is the E-commerce platform"
   ]
  },
  {
   "cell_type": "code",
   "execution_count": 150,
   "id": "13d92070",
   "metadata": {},
   "outputs": [
    {
     "name": "stdout",
     "output_type": "stream",
     "text": [
      "+-----------+------------+\n",
      "|Reliability|Nº_Customers|\n",
      "+-----------+------------+\n",
      "|        Low|       56631|\n",
      "|     Medium|       27171|\n",
      "|       High|       12674|\n",
      "|    Unknown|        2965|\n",
      "+-----------+------------+\n",
      "\n"
     ]
    }
   ],
   "source": [
    "reliability_delivery = customers_delivery.groupBy(\"Reliability\")\\\n",
    "                                        .agg(count(\"customer_id\").alias(\"Nº_Customers\"))\\\n",
    "                                        .orderBy(col(\"Nº_Customers\").desc())\n",
    "\n",
    "reliability_delivery.show(10)"
   ]
  },
  {
   "cell_type": "code",
   "execution_count": 152,
   "id": "c16c7911",
   "metadata": {},
   "outputs": [
    {
     "name": "stdout",
     "output_type": "stream",
     "text": [
      "+-----------+--------------+------------+\n",
      "|Reliability|customer_state|Nº_Customers|\n",
      "+-----------+--------------+------------+\n",
      "|        Low|            SP|       21237|\n",
      "|     Medium|            SP|       14422|\n",
      "|        Low|            MG|        7649|\n",
      "|        Low|            RJ|        7412|\n",
      "|       High|            SP|        4836|\n",
      "|        Low|            RS|        3694|\n",
      "|        Low|            PR|        3289|\n",
      "|     Medium|            RJ|        2705|\n",
      "|     Medium|            MG|        2681|\n",
      "|       High|            RJ|        2236|\n",
      "+-----------+--------------+------------+\n",
      "only showing top 10 rows\n",
      "\n"
     ]
    },
    {
     "name": "stderr",
     "output_type": "stream",
     "text": [
      "                                                                                \r"
     ]
    }
   ],
   "source": [
    "reliability_delivery = customers_delivery.groupBy(\"Reliability\", \"customer_state\")\\\n",
    "                                        .agg(count(\"customer_id\").alias(\"Nº_Customers\"))\\\n",
    "                                        .orderBy(col(\"Nº_Customers\").desc(),col(\"Reliability\"),col(\"customer_state\").desc())\n",
    "\n",
    "reliability_delivery.show(10)"
   ]
  },
  {
   "cell_type": "code",
   "execution_count": 144,
   "id": "0fd56f5d",
   "metadata": {},
   "outputs": [
    {
     "name": "stdout",
     "output_type": "stream",
     "text": [
      "+-----------+--------------+------------+\n",
      "|Reliability|Year_Purchased|Nº_Customers|\n",
      "+-----------+--------------+------------+\n",
      "|        Low|          2018|       28989|\n",
      "|        Low|          2017|       27384|\n",
      "|     Medium|          2018|       15573|\n",
      "|     Medium|          2017|       11592|\n",
      "|       High|          2018|        8216|\n",
      "|       High|          2017|        4450|\n",
      "|    Unknown|          2017|        1675|\n",
      "|    Unknown|          2018|        1233|\n",
      "|        Low|          2016|         258|\n",
      "|    Unknown|          2016|          57|\n",
      "+-----------+--------------+------------+\n",
      "only showing top 10 rows\n",
      "\n"
     ]
    }
   ],
   "source": [
    "reliability_delivery = customers_delivery.groupBy(\"Reliability\", \"Year_Purchased\")\\\n",
    "                                        .agg(count(\"customer_id\").alias(\"Nº_Customers\"))\\\n",
    "                                        .orderBy(col(\"Nº_Customers\").desc(),col(\"Reliability\"))\n",
    "\n",
    "reliability_delivery.show(10)"
   ]
  },
  {
   "cell_type": "markdown",
   "id": "c0ef7744",
   "metadata": {},
   "source": [
    "The conclusions we got from the results given are very important because the E-commerce platform should improve the reliability of the delivery estimation. Customers satisfaction is the main important objective and we shouldn't fail to estimate the product arrival date. "
   ]
  }
 ],
 "metadata": {
  "kernelspec": {
   "display_name": "Python 3 (ipykernel)",
   "language": "python",
   "name": "python3"
  },
  "language_info": {
   "codemirror_mode": {
    "name": "ipython",
    "version": 3
   },
   "file_extension": ".py",
   "mimetype": "text/x-python",
   "name": "python",
   "nbconvert_exporter": "python",
   "pygments_lexer": "ipython3",
   "version": "3.7.3"
  }
 },
 "nbformat": 4,
 "nbformat_minor": 5
}
